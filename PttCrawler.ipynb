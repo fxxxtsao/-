{
  "nbformat": 4,
  "nbformat_minor": 0,
  "metadata": {
    "colab": {
      "name": "PttCrawler.ipynb",
      "provenance": [],
      "collapsed_sections": [],
      "include_colab_link": true
    },
    "kernelspec": {
      "name": "python3",
      "display_name": "Python 3"
    },
    "accelerator": "TPU"
  },
  "cells": [
    {
      "cell_type": "markdown",
      "metadata": {
        "id": "view-in-github",
        "colab_type": "text"
      },
      "source": [
        "<a href=\"https://colab.research.google.com/github/fxxxtsao/Crawler/blob/master/PttCrawler.ipynb\" target=\"_parent\"><img src=\"https://colab.research.google.com/assets/colab-badge.svg\" alt=\"Open In Colab\"/></a>"
      ]
    },
    {
      "cell_type": "code",
      "metadata": {
        "id": "PmJ5odsYLWMS",
        "colab_type": "code",
        "colab": {}
      },
      "source": [
        "import requests\n",
        "from bs4 import BeautifulSoup as bs\n",
        "import json \n",
        "import re\n",
        "import time\n",
        "from multiprocessing import Pool\n",
        "\n",
        "# 熱門看板列表: https://www.ptt.cc/bbs/hotboards.html\n",
        "def get_soup(item):\n",
        "    headers = {'user-agent': 'Mozilla/5.0 (Windows NT 6.1) AppleWebKit/537.36 (KHTML, like Gecko) Chrome/52.0.2743.116 Safari/537.36'}\n",
        "    res = requests.get(item, headers=headers, cookies={'over18': '1'}).text\n",
        "    soup = bs(res, 'lxml')\n",
        "    return soup\n",
        "\n",
        "def get_pages():\n",
        "    pages = []\n",
        "    n = 6500 #測試用頁面\n",
        "    while True:\n",
        "        url = 'https://www.ptt.cc/bbs/NBA/index'+str(n)+'.html'\n",
        "        lessons = get_soup(url).select('a' )\n",
        "        if lessons == []:\n",
        "            break\n",
        "        else :\n",
        "            pages.append(url)\n",
        "            n += 1\n",
        "            #print(url)\n",
        "            #time.sleep(0.5)\n",
        "    return pages\n",
        "\n",
        "def get_article_web():\n",
        "    web = []\n",
        "    for i in range(0,len(get_pages())):\n",
        "        article_web = get_soup(get_pages()[i]).find_all('div', class_='title')\n",
        "    #print(article_web) \n",
        "    #print(get_article_web()[0])\n",
        "        for item in article_web:\n",
        "            if item.find('a') == None:\n",
        "                web.append('本文已被刪除')\n",
        "                break\n",
        "            else:\n",
        "                web.append('https://www.ptt.cc/'+item.find('a').get('href'))\n",
        "    return web\n",
        "\n",
        "#print(get_article_web()[0])"
      ],
      "execution_count": 0,
      "outputs": []
    },
    {
      "cell_type": "markdown",
      "metadata": {
        "id": "wDARDGruQ7bn",
        "colab_type": "text"
      },
      "source": [
        "### 推文數　"
      ]
    },
    {
      "cell_type": "code",
      "metadata": {
        "id": "qPNttNgm-l-z",
        "colab_type": "code",
        "outputId": "91c567ae-48d5-41b8-df42-04f01e96c566",
        "colab": {
          "base_uri": "https://localhost:8080/",
          "height": 54
        }
      },
      "source": [
        "def get_article_push():\n",
        "    push = []\n",
        "    for i in range(0,len(get_pages())):\n",
        "        article_push = get_soup(get_pages()[i]).find_all('div', class_='nrec')\n",
        "        for pu in article_push:\n",
        "            try:\n",
        "                push.append(pu.find('span').text)\n",
        "            except :continue\n",
        "    return push\n",
        "\n",
        "print(get_article_push())"
      ],
      "execution_count": 14,
      "outputs": [
        {
          "output_type": "stream",
          "text": [
            "['21', '9', '94', '爆', '61', 'XX', '14', '93', '12', '85', '3', '27', '34', '26', '35', '45', '60', '54', '12', '5', '55', '13', '24', '83', '11', '37', '26', '27', '56', '32', '38', '爆', '16', '2', '99', '53', '45', '76', '30', '爆', '21', '57', '爆', '爆', '16', '58', '16', '爆', '爆', '67', '1', '21', '39', '99', '23', '9', '76', 'X1', '55', '91', '24', '60', '69', '爆', '爆', 'X1', '33', '39', '爆', '91', '80', '54', '93', '64', '46', '92', '1', '73', '爆', '50', '87', '49', '35', '11', '16', '33', '38', '48', '5', '38', '爆', '11', '29', '1', '39', '28', '11', '5', '20', '26', '21', '16', '爆', '31', '33', '2', '23', '11', '5', '10', '4', '52', '19', '57', '87', '爆', '2', '爆', '11', '21', '70', '爆', 'X2', '90', '爆', '53', '24', '27', '爆', '59', '77', '爆', '19', '54', '24', '40', '50', '6', '爆', '32', '17', '28', '爆', '35', '39', '6']\n"
          ],
          "name": "stdout"
        }
      ]
    },
    {
      "cell_type": "markdown",
      "metadata": {
        "id": "E4NL4XseTaS1",
        "colab_type": "text"
      },
      "source": [
        "### 文章略標　"
      ]
    },
    {
      "cell_type": "code",
      "metadata": {
        "id": "pwEXZZgjTZJG",
        "colab_type": "code",
        "colab": {
          "base_uri": "https://localhost:8080/",
          "height": 54
        },
        "outputId": "8345231e-79e2-4129-af9c-e8be046c6006"
      },
      "source": [
        "def get_article_title():\n",
        "    title = []\n",
        "    for i in range(0,len(get_pages())):\n",
        "        article_title = get_soup(get_pages()[i]).find_all('div', class_='title')\n",
        "        for it in article_title:\n",
        "            try:\n",
        "                title.append(it.text)\n",
        "            except :continue\n",
        "        \n",
        "    return title\n",
        "print(get_article_title())"
      ],
      "execution_count": 54,
      "outputs": [
        {
          "output_type": "stream",
          "text": [
            "['\\n[新聞] 拉文49分13顆外線創公牛隊史新高\\u30000.8秒\\n', '\\n[新聞] 楊恩大三元無用 暴龍成功擒下老鷹收3連勝\\n', '\\n[討論] 目前為止，哪隊換新教練最有感？\\n', '\\n[花邊] LBJ談全場0罰球：習慣了，過去幾場胳膊上\\n', '\\n[花邊] Dragic前年評Doncic:他會是世界最佳之一\\n', '\\n\\t\\t\\t\\n\\t\\t\\t\\t(已被V刪除) <slamblock15>1-2 1-6 3-2 退\\n\\t\\t\\t\\n\\t\\t\\t', '\\n[花邊] 感念NBA先驅三阪亙 林書豪：望你在天堂安\\n', '\\n[情報]  Ja Morant \\n', '\\nFw: [公告] 請使用安全的連線方式連線本站\\n', '\\n[花邊] 隊友發聲：多數人都能得到罰球，LBJ卻沒\\n', '\\n[花邊] 林書豪對決前CBA助攻王\\u3000急需勝利扭轉氣\\n', '\\n[花邊] NBA擬單淘汰盃賽 改季後種子排序\\n', '\\n[花邊] 中年婦女之友！Curry更新社媒曬自己參加\\n', '\\n[新聞] 噪音導致賽前無法補眠  詹皇照帶隊贏球\\n', '\\n[情報] 布克差1助攻三雙:首要是用正確方式打球\\n', '\\n[討論] 小球當道 已經沒有人低位單打了嗎?\\n', '\\n[新聞] 詹皇獲0罰球主帥上訴 戴維斯：他不假摔\\n', '\\n[討論] Ben Simmons這季是不是沒什麼進步?\\n', '\\n[情報] ★今日排名(2019.11.24)★\\n', '\\nRe: [討論] 小球單道 已經沒有人低位單打了嗎?\\n', '\\nRe: [討論] 小球當道 已經沒有人低位單打了嗎?\\n', '\\n[討論] 湖人在三分線的防守能力\\n', '\\n[情報] Kyle Lowry透露CP3在總冠軍戰期間給他建議\\n', '\\n[討論] Lavine今天三分球絕殺的跳投高度\\n', '\\n[新聞] 回費城被狂噓 Butler：沒注意\\n', '\\n[討論] 77會超越大鳥成為史上最強白人球員嗎?\\n', '\\n\\t\\t\\t\\n\\t\\t\\t\\t(本文已被刪除) [yanchi030]\\n\\t\\t\\t\\n\\t\\t\\t', '\\n[情報] NBA Standings (Nov. 24, 2019)\\n', '\\n[花邊] 國王隊四億元失竊事件 (1)\\n', '\\n[討論]起跳高度之外  Lavine的高難度腳步\\n', '\\n[新聞] 最新球迷忠誠度排名 鋼鐵湖粉排第一\\n', '\\n[Live] 獨行俠 @ 火箭\\n', '\\n\\t\\t\\t\\n\\t\\t\\t\\t(本文已被刪除) [etbear]\\n\\t\\t\\t\\n\\t\\t\\t', '\\n[Live] 籃網 @ 尼克\\n', '\\n[Live] 國王 @ 巫師\\n', '\\n[BOX ] Mavericks 137:123 Rockets 數據\\n', '\\n[情報] Luka Doncic生涯2000分、連4場30+10\\n', '\\n[舊聞] Doncic連線KP 小哈德威要當隊上芬利\\n', '\\n[情報] Doncic連4場30+分和10+助攻 1984年來第4位\\n', '\\n[Live] 太陽 @ 金塊\\n', '\\n[討論] 現在開始追Doncic會太晚嗎?\\n', '\\n[花邊] 老河:今日全員可出戰 只有教練要負荷管理\\n', '\\n[BOX ] Kings 113:106 Wizards 數據\\n', '\\n[Live] 鵜鶘 @ 快艇\\n', '\\n[BOX ] Nets 103:101 Knicks 數據\\n', '\\nRe: [情報] Kemba Walker疑似腦震盪\\n', '\\n[情報] LBJ本賽季上下場湖人淨勝分+19.7\\n', '\\n[花邊] 講到退休 Richard Jefferson狠狠酸了尼克\\n', '\\n[情報] Doncic：去年我們有Dirk,所以防守較艱困\\n', '\\n[討論] 湖人這季算是跌破大家眼鏡嗎\\n', '\\n\\t\\t\\t\\n\\t\\t\\t\\t(本文已被刪除) [LABOYS]\\n\\t\\t\\t\\n\\t\\t\\t', '\\n[新聞] 唐西奇飆41分10助攻擊潰火箭\\u3000連4場30+10\\n', '\\n\\t\\t\\t\\n\\t\\t\\t\\t(本文已被刪除) [myths]\\n\\t\\t\\t\\n\\t\\t\\t', '\\n\\t\\t\\t\\n\\t\\t\\t\\t(本文已被刪除) [justgetup]\\n\\t\\t\\t\\n\\t\\t\\t', '\\n[BOX ] Suns 104:116 Nuggets 數據\\n', '\\n[外絮] LBJ在球迷跟他要簽名後放了個屁\\n', '\\nRe: [情報] Doncic：去年我們有Dirk,所以防守較艱困\\n', '\\n\\t\\t\\t\\n\\t\\t\\t\\t(已被Vedan刪除) <kqqmoney>其他-1-球迷討論\\n\\t\\t\\t\\n\\t\\t\\t', '\\n[討論] Ben Simmons和Draymond  Green像不像\\n', '\\n[討論] 我拓到底怎麼了！\\n', '\\nRe: [討論] 我拓到底怎麼了！\\n', '\\n[BOX ] Pelicans 109:134 Clippers 數據\\n', '\\n[新聞] 傷兵潮來襲 帕楚利亞找巫師勇士主場作法\\n', '\\n[討論] 尼克接下來的地獄賽程\\n', '\\n[情報] Kenny Atkinson談KI:他需要時間理解我們\\n', '\\n[討論] Doncic的切入蠻妙的\\n', '\\n\\t\\t\\t\\n\\t\\t\\t\\t(已被Vedan刪除) <fox1234>1-2\\n\\t\\t\\t\\n\\t\\t\\t', '\\n[情報] 灰熊放出消息 必須通過交易才能得到小ai\\n', '\\n\\t\\t\\t\\n\\t\\t\\t\\t(本文已被刪除) [youhow0418]\\n\\t\\t\\t\\n\\t\\t\\t', '\\n[花邊] Magic心目中MVP，LBJ、字母、Doncic前三\\n', '\\n[討論] Dlo跟KI要怎麼選？\\n', '\\n[新聞] 看好馬龍制霸現代 史塔克頓：能挑戰單場\\n', '\\n[討論] 現役最好的雙核心組合\\n', '\\nRe: [新聞] 看好馬龍制霸現代 史塔克頓：能挑戰單場\\n', '\\n[情報] Gordon Hayward 透過打電動來復健\\n', '\\n\\t\\t\\t\\n\\t\\t\\t\\t(已被Vedan刪除) <ll1117>1-1 1-2\\n\\t\\t\\t\\n\\t\\t\\t', '\\n[外絮] 乳摸:國王沒選Doncic是因Divac不喜歡他爸\\n', '\\n[情報] 全聯盟 30支球隊 - 攻防兩端水準示意圖\\n', '\\n\\t\\t\\t\\n\\t\\t\\t\\t(本文已被刪除) [XperiaZ6C]\\n\\t\\t\\t\\n\\t\\t\\t', '\\nRe: [新聞] 看好馬龍制霸現代 史塔克頓：能挑戰單場\\n', '\\n\\t\\t\\t\\n\\t\\t\\t\\t(本文已被刪除) [lan7894163]\\n\\t\\t\\t\\n\\t\\t\\t', '\\n[新聞] Walker拚帶傷盡早復出\\n', '\\nRe: [情報] 灰熊放出消息 必須通過交易才能得到小ai\\n', '\\n[新聞] 影／領先兩分傳給對手？籃網「神戰術」\\n', '\\n[花邊] 挑戰史上最年輕MVP？ 唐西奇：目標帶隊進\\n', '\\n[討論] 小AI現在還很搶手嗎\\n', '\\n[討論] 球員面對到突襲交易心臟需要有多大顆?\\n', '\\n\\t\\t\\t\\n\\t\\t\\t\\t(本文已被刪除) [hass231470]\\n\\t\\t\\t\\n\\t\\t\\t', '\\n[花邊] Richardson：被熱火交易後找了心理醫生\\n', '\\n[情報] NBA Standings (Nov. 25, 2019)\\n', '\\n[新聞] 到底？巴特勒自曝離隊是76人逼他的\\n', '\\n[情報] 勇士好消息！主力中鋒預計周六作客熱火回\\n', '\\n[情報] ★今日排名(2019.11.25)★\\n', '\\n[討論] 今年可以直接宣布總冠軍是快艇了\\n', '\\n\\t\\t\\t\\n\\t\\t\\t\\t(已被Vedan刪除) <terryyang214>動網文\\n\\t\\t\\t\\n\\t\\t\\t', '\\n[討論] 為什麼暴龍還能在東區那麼強？\\n', '\\nRe: [討論] 077是不是滿足大家當初對西門的期望\\n', '\\n[討論] 077是不是高白版哈登?\\n', '\\n\\t\\t\\t\\n\\t\\t\\t\\t(本文已被刪除) [dragon803]\\n\\t\\t\\t\\n\\t\\t\\t', '\\n[討論] NBA前總裁史騰呼籲NBA響應大麻合法化\\n', '\\nRe: [討論] 為什麼暴龍還能在東區那麼強？\\n', '\\n[新聞] 率隊創賽季前16戰最佳成績 詹皇：不會說\\n', '\\n[情報] ZAZA找人替新球場祈福\\n', '\\n[新聞] 丁威迪30分領軍 籃網退尼克收3連勝\\n', '\\n[新聞] 勇士總管將赴澳洲考察「球小弟」\\u3000\\n', '\\n[新聞] Harrell飆分平新高 快艇捕鵜鶘5連勝\\n', '\\n\\t\\t\\t\\n\\t\\t\\t\\t(本文已被刪除) [babe18]\\n\\t\\t\\t\\n\\t\\t\\t', '\\n[討論] 詹皇生涯最佳戰役是哪一場\\n', '\\n[外絮] Hart說在講到湖人負面評論後他趕快打電話\\n', '\\n\\t\\t\\t\\n\\t\\t\\t\\t(本文已被刪除) [gn00715334]\\n\\t\\t\\t\\n\\t\\t\\t', '\\n[情報] 各項數據排行(Week5)\\n', '\\n[Live] 魔術 @ 活塞\\n', '\\n[Live] 籃網 @ 騎士\\n', '\\n[Live] 灰熊 @ 溜馬\\n', '\\n[Live] 灰狼 @ 老鷹\\n', '\\n[Live] 國王 @ 超賽\\n', '\\n[Live] 黃蜂 @ 熱火\\n', '\\n[Live] 七六人 @ 暴龍\\n', '\\n[Live] 爵士 @ 公鹿\\n', '\\n[Live] 拓荒者 @ 公牛\\n', '\\n[情報] 上週東西區最球員：Dinwiddie, Doncic\\n', '\\n[Live] 湖人 @ 馬刺\\n', '\\n\\t\\t\\t\\n\\t\\t\\t\\t(本文已被刪除) [MPSSC]\\n\\t\\t\\t\\n\\t\\t\\t', '\\n[討論] 35歲的LBJ是不是真的很誇張\\n', '\\n[BOX ] Grizzlies 114:126 Pacers 數據\\n', '\\n[情報] 嘴綠今日因腳後跟傷勢將缺席對雷霆比賽\\n', '\\n[BOX ] Magic 88:103 Pistons 數據\\n', '\\n[花邊] Curry女兒Riley問嘴綠為何勇士一直輸\\n', '\\n[BOX ] Nets 108:106 Cavaliers 數據\\n', '\\n[討論] FMVP制度是不是該提前檢討了\\n', '\\n[Live] 雷霆 @ 勇士\\n', '\\n[BOX ] Sixers 96:101 Raptors 數據\\n', '\\n[BOX ] Timberwolves 125:113 Hawks 數據\\n', '\\n[BOX ] Kings 102:103 Celtics 數據\\n', '\\n[BOX ] Hornets 100:117 Heat 數據\\n', '\\n[BOX ] Blazers 117:94 Bulls 數據\\n', '\\n[情報] NBA官方推特祝賀LBJ例行賽進球達歷史第五\\n', '\\n[BOX ] Jazz 118:122 Bucks 數據\\n', '\\n[BOX ] Lakers 114:104 Spurs 數據\\n', '\\n[花邊] 國王隊四億元失竊事件 (2)\\n', '\\n[花邊] 媒體賽前發現Derozan 將自己IG內容\\n', '\\n[新聞] 單節12分！甜瓜回春轟全場最高分助隊勝\\n', '\\n[情報] Carmelo生涯總得分超越English，歷史第18\\n', '\\n[情報] 字母哥成為第4位單場50分10籃板0失誤球員\\n', '\\nRe: [情報] NBA官方推特祝賀LBJ例行賽進球達歷史第五\\n', '\\n[情報] 乳摸:馬刺有可能把DDR或AGG送到熱火\\n', '\\n[討論] Frank Vogel 真有料還是另一個Lue?\\n', '\\n\\t\\t\\t\\n\\t\\t\\t\\t(本文已被刪除) [VeryGoodBoy]\\n\\t\\t\\t\\n\\t\\t\\t', '\\n[情報] Embiid成為歷史第三個單場出手11次卻得分\\n', '\\n[BOX ] Thunder 100:97 Warriors 數據\\n', '\\n[討論] 假車禍現在退流行了嗎？\\n', '\\n[公告] 板規v6.5\\n', '\\n[公告] 樂透取消及未來不再開啟樂透\\n', '\\n[公告] 版主上任相關事項 \\n', '\\n[情報] SEASON Schedule 賽程 November 19–20\\n', '\\n[公告] 修改板規3-3之第二階段投票開始囉\\n']\n"
          ],
          "name": "stdout"
        }
      ]
    },
    {
      "cell_type": "markdown",
      "metadata": {
        "id": "QAflsu9TP5ms",
        "colab_type": "text"
      },
      "source": [
        "## 作者"
      ]
    },
    {
      "cell_type": "code",
      "metadata": {
        "id": "rTeb12bAP9Eq",
        "colab_type": "code",
        "colab": {}
      },
      "source": [
        "def get_article_author():\n",
        "    author = []\n",
        "    for i in range(0,len(get_pages())):\n",
        "        article_author = get_soup(get_pages()[i]).find_all('div', class_='author')\n",
        "        for it in article_author:\n",
        "            try:\n",
        "                author.append(it.text)\n",
        "            except :continue\n",
        "        \n",
        "    return author\n",
        "#print(get_article_author())"
      ],
      "execution_count": 0,
      "outputs": []
    },
    {
      "cell_type": "code",
      "metadata": {
        "id": "WwGuoZOwVeI5",
        "colab_type": "code",
        "outputId": "fd56d8e2-5321-4147-a6d0-c69796868f98",
        "colab": {
          "base_uri": "https://localhost:8080/",
          "height": 54
        }
      },
      "source": [
        "\n",
        "\n",
        "def article():\n",
        "    data = []\n",
        "    article = {}    \n",
        "    for j in range(0,len(get_article_web())):\n",
        "        article['網址'] = get_article_web()[j]\n",
        "        #print(article['網址'])\n",
        "        try:\n",
        "            article['作者'] = get_soup(get_article_web()[j]).find_all('span', class_='article-meta-value')[0].text\n",
        "            #print(article['作者'])\n",
        "            article['標題'] = get_soup(get_article_web()[j]).find_all('span', class_='article-meta-value')[2].text\n",
        "            #print(article['標題'])\n",
        "            article['時間'] = get_soup(get_article_web()[j]).find_all('span', class_='article-meta-value')[3].text\n",
        "    #article['內文'] = get_soup(get_article_web()[j]).find_all('div', class_='bbs-screen bbs-content')[0].text\n",
        "        except :continue\n",
        "        data.append(article)\n",
        "    return data\n",
        "    \n",
        "    \n",
        "#article= get_soup(get_article_web(1)[1]).find_all('span', class_='article-meta-value')[3].text\n",
        "#print(article())\n"
      ],
      "execution_count": 0,
      "outputs": [
        {
          "output_type": "stream",
          "text": [
            "[{'分頁': 'https://www.ptt.cc/bbs/NBA/index6500.html', '網址': 'https://www.ptt.cc//bbs/NBA/M.1574573669.A.72E.html', '推文': '21', '作者': 'teramars (tomorrow never knows)', '標題': '[新聞] 拉文49分13顆外線創公牛隊史新高\\u30000.8秒', '時間': 'Sun Nov 24 13:34:26 2019', '內文': '作者teramars (tomorrow never knows)看板NBA標題[新聞] 拉文49分13顆外線創公牛隊史新高\\u30000.8秒時間Sun Nov 24 13:34:26 2019\\n  拉文49分13顆外線創公牛隊史新高\\u30000.8秒絕殺黃蜂\\n\\n\\n前一戰被冰在板凳的拉文（Zach LaVine）對上黃蜂大爆發，不僅狂轟13顆外線寫下公牛\\n\\n隊史紀錄，49分也打破個人生涯最高，比賽結束前0.8秒更投進超前的三分球，幫助公牛\\n\\n116比115險勝黃蜂。\\n\\n\\n拉文在前一戰對熱火的比賽中，一度被教練柏伊蘭（Jim Boylen）冰在板凳，拉文也公開\\n\\n表示感覺到教練對他的不信任。不過本戰大復活的他外線17投13中，追平柯瑞(Stephen\\n\\nCurry)的單場第2多三分球紀錄，而且其中7顆在第4節投進，也平了隊史單節紀錄。\\n\\n\\n儘管如此，公牛在最後1分鐘落後達8分。而在過去20個球季，在如此狀況下的15,266場比\\n\\n賽，只有9次成功逆轉，勝率只有0.059%。不過薩托蘭斯基(Tomas Satoransky)先在終場8\\n\\n秒投進外線，懷特(Coby White)成功抄到底線發球，再給到拉文投進準絕殺外線，116比\\n\\n115逆轉；在比賽最後1分鐘，拉文一個人就投進3顆三分球。\\n\\n\\n拉文成為2015年的「飆風玫瑰」羅斯(Derrick Rose)在2015年季後賽對騎士以來，第1位\\n\\n在終場前1秒之內，投進追平三分球的球員。而公牛上一次在例行賽，出現這種緊要關頭\\n\\n的絕殺，已是喬丹(Michael Jordan)在1997年絕殺黃蜂。\\n\\n\\n\\n記者林育正／綜合報導\\n\\nhttps://sports.ettoday.net/news/1586985?redirect=1\\n\\n--\\n※ 發信站: 批踢踢實業坊(ptt.cc), 來自: 182.234.74.135 (臺灣)\\n※ 文章網址: https://www.ptt.cc/bbs/NBA/M.1574573669.A.72E.html\\n推 SwissMiniGun: 又是黃蜂 真有緣 11/24 13:36\\n→ Pixis       : 又是黃蜂笑死 11/24 13:38\\n推 mercuries2  : 落後8分還贏的那九場，應該有一場是tmac35秒13分吧 11/24 13:40\\n→ mercuries2  : ，不是很清楚那場比賽最後一分鐘時火箭落後幾分 11/24 13:40\\n推 rojjujj     : 這真的精典 11/24 13:43\\n推 peanut910013: 記得最後是一波15：4 影片從姚明灌籃開始 應該追了1 11/24 13:49\\n→ peanut910013: 0分 11/24 13:49\\n推 t79102xw    : 最後ㄧ球連空氣都凝結了 LaVine那姿勢美如畫 11/24 13:57\\n推 DwyaneWade  : lavine真他媽暴幹帥 11/24 14:06\\n推 iamaq18c    : 帥死我了！ 11/24 14:08\\n推 peacedove   : tmac那場沒記錯也是八分 11/24 14:19\\n推 taihsin     : 猛 11/24 14:21\\n推 simon89889  : 感覺出手空間比t-mac大一些 不知道是他跳得高 11/24 14:39\\n推 simon89889  : 還是防守沒針對 t-mac持球時都是兩個人貼上去 11/24 14:41\\n→ simon89889  : 不過前兩確實誇張到 11/24 14:42\\n→ jerrychlin  : 今天老喬有在現場嗎？ 11/24 14:47\\n推 SwissMiniGun: 話說LaVine也才2000萬 黃蜂如果簽到他該多爽 11/24 14:48\\n噓 signm       : 公牛不會讓出來吧，冰各毛 11/24 15:02\\n→ SwissMiniGun: 肯定不會啊XD 11/24 15:05\\n→ appole      : 各種空檔 11/24 15:16\\n→ youa        : 喬丹絕殺的是另一隊黃蜂吧？ 11/24 15:33\\n推 sonas20     : 同一隻黃蜂吧，有繼承歷史不是嗎 11/24 15:44\\n噓 ACEFUCK     : 這球沒進保證一堆鍵盤教練出來噴出手選擇 11/24 15:57\\n推 SwissMiniGun: 同一隻 夏洛特黃蜂有繼承1988-2002黃蜂 11/24 16:12\\n→ SwissMiniGun: CP3則是紐奧良黃蜂=現在的水鳥 11/24 16:13\\n推 s87995109   : 沒進一定一堆說怎不拿兩分 11/24 16:22\\n→ s87995109   : 這隻是公年重建基石怎可能讓 11/24 16:23\\n推 KobeNi      : 有一球是不小心踩到線的long two，沒踩就更史上留名 11/24 16:29\\n→ KobeNi      : 了 11/24 16:29\\n推 csyhri      : 狂 11/24 17:19\\n推 likewen11033: 上次絕殺黃蜂的老喬現在在黃蜂當老闆看黃蜂被老東家 11/24 18:16\\n→ likewen11033: 的人絕殺，蠻五味雜陳的吧 11/24 18:16\\n噓 king04569   : 第三節不知道再冰三小 白癡教練 11/24 18:33\\n推 km10635237  : 帥渣了 11/24 18:35\\n推 iovebaby520 : 如果最後沒進應該變戰犯？ 11/24 19:54\\n推 ckshchen    : 戰犯什麼?本來輸那麼多，他追近的 11/24 20:01\\n推 Loire       : 最後一球 跟 miller  time 超像的 11/24 20:10\\n推 bye2007     : 這球真的太屌 11/24 20:50\\n→ bye2007     : 公牛上一次絕殺 已經是1997年啦.... 11/24 20:51\\n推 Scubadive   : 今天跟神一樣... 11/25 00:13\\n'}]\n"
          ],
          "name": "stdout"
        }
      ]
    }
  ]
}