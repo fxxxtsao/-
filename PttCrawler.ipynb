{
  "nbformat": 4,
  "nbformat_minor": 0,
  "metadata": {
    "colab": {
      "name": "PttCrawler.ipynb",
      "provenance": [],
      "collapsed_sections": [],
      "include_colab_link": true
    },
    "kernelspec": {
      "name": "python3",
      "display_name": "Python 3"
    },
    "accelerator": "TPU"
  },
  "cells": [
    {
      "cell_type": "markdown",
      "metadata": {
        "id": "view-in-github",
        "colab_type": "text"
      },
      "source": [
        "<a href=\"https://colab.research.google.com/github/fxxxtsao/Crawler/blob/master/PttCrawler.ipynb\" target=\"_parent\"><img src=\"https://colab.research.google.com/assets/colab-badge.svg\" alt=\"Open In Colab\"/></a>"
      ]
    },
    {
      "cell_type": "code",
      "metadata": {
        "id": "PmJ5odsYLWMS",
        "colab_type": "code",
        "colab": {
          "base_uri": "https://localhost:8080/",
          "height": 34
        },
        "outputId": "e134e85d-cb4e-4116-ab5e-bfa23ae76bca"
      },
      "source": [
        "import requests\n",
        "from bs4 import BeautifulSoup as bs\n",
        "import json \n",
        "import re\n",
        "import datetime\n",
        "from multiprocessing import Pool\n",
        "#選擇看板連結\n",
        "url = 'https://www.ptt.cc/bbs/NBA/index'\n",
        "# 熱門看板列表: https://www.ptt.cc/bbs/hotboards.html\n",
        "def get_soup(item):\n",
        "    headers = {'user-agent': 'Mozilla/5.0 (Windows NT 6.1) AppleWebKit/537.36 (KHTML, like Gecko) Chrome/52.0.2743.116 Safari/537.36'}\n",
        "    res = requests.get(item, headers=headers, cookies={'over18': '1'}).text\n",
        "    soup = bs(res, 'lxml')\n",
        "    return soup\n",
        "\n",
        "def get_pages():#找出列表\n",
        "    \n",
        "    pages = []\n",
        "    n = 6502 #測試用頁面\n",
        "    while True:\n",
        "        url_name = url + str(n)+'.html'\n",
        "        lessons = get_soup(url_name).select('a' )\n",
        "        if lessons == []:\n",
        "            break\n",
        "        else :\n",
        "            pages.append(url_name)\n",
        "            n += 1\n",
        "            #print(url)\n",
        "            #time.sleep(0.5)\n",
        "    return pages\n",
        "\n",
        "def get_article_web():#找出網址並將已刪除文章加入，以便整合\n",
        "    web = []\n",
        "    get_web = get_pages()\n",
        "    for i in range(0,len(get_web)):\n",
        "        article_web = get_soup(get_web[i]).find_all('div', class_='title')\n",
        "    #print(article_web) \n",
        "    #print(get_article_web()[0])\n",
        "        for item in article_web:\n",
        "            if item.find('a') == None:\n",
        "                web.append('本文已被刪除')\n",
        "                break\n",
        "            else:\n",
        "                web.append('https://www.ptt.cc/'+item.find('a').get('href'))\n",
        "    return web\n",
        "\n",
        "print(get_article_web()[0])"
      ],
      "execution_count": 12,
      "outputs": [
        {
          "output_type": "stream",
          "text": [
            "https://www.ptt.cc//bbs/NBA/M.1574642705.A.C83.html\n"
          ],
          "name": "stdout"
        }
      ]
    },
    {
      "cell_type": "markdown",
      "metadata": {
        "id": "wDARDGruQ7bn",
        "colab_type": "text"
      },
      "source": [
        "### 推文數　"
      ]
    },
    {
      "cell_type": "code",
      "metadata": {
        "id": "qPNttNgm-l-z",
        "colab_type": "code",
        "outputId": "4bf77a38-3a14-4272-ed5b-8cf39c54d98b",
        "colab": {
          "base_uri": "https://localhost:8080/",
          "height": 54
        }
      },
      "source": [
        "def get_article_push():\n",
        "    push = []\n",
        "    get_push = get_pages()\n",
        "    for i in range(0,len(get_push)):\n",
        "        article_push = get_soup(get_push[i]).find_all('div', class_='nrec')\n",
        "        for pu in article_push:\n",
        "            try:\n",
        "                push.append(pu.find('span').text)\n",
        "            except :continue\n",
        "    return push\n",
        "\n",
        "print(get_article_push())"
      ],
      "execution_count": 13,
      "outputs": [
        {
          "output_type": "stream",
          "text": [
            "['爆', '21', '57', '爆', '爆', '16', '58', '16', '爆', '爆', '67', '1', '21', '39', '99', '23', '9', '76', 'X1', '55', '91', '24', '60', '69', '爆', '爆', 'X1', '33', '39', '爆', '91', '81', '54', '93', '64', '46', '93', '1', '73', '爆', '50', '87', '49', '35', '11', '18', '33', '38', '48', '5', '38', '99', '11', '30', '1', '39', '28', '12', '5', '22', '26', '21', '16', '爆', '31', '34', '2', '23', '11', '5', '10', '4', '52', '19', '57', '91', '爆', '2', '爆', '13', '24', '78', '爆', 'X2', '爆', '99', '56', '25', '31', '爆', '64', '87', '爆', '24', '60', '36', '48', '66', '8', '爆', '50', '17', '68', '96', '3', '53', '66', '32', '76', '33', '62', '31', '30', '41', '23', '30', '27', '34', '30', '17', '8', '20', '68', '39', '17', '75', '5', '23', '12', '7', '4', '87', '82', '爆', 'X1', '47', '24', '31', '11', '1', '59', '40', '58', '30', '爆', '35', '39', '6']\n"
          ],
          "name": "stdout"
        }
      ]
    },
    {
      "cell_type": "markdown",
      "metadata": {
        "id": "E4NL4XseTaS1",
        "colab_type": "text"
      },
      "source": [
        "### 文章略標　"
      ]
    },
    {
      "cell_type": "code",
      "metadata": {
        "id": "pwEXZZgjTZJG",
        "colab_type": "code",
        "outputId": "919acc0c-77ea-40e0-e99f-6c84787c09cd",
        "colab": {
          "base_uri": "https://localhost:8080/",
          "height": 54
        }
      },
      "source": [
        "def get_article_title():\n",
        "    title = []\n",
        "    get_title = get_pages()\n",
        "    for i in range(0,len(get_title)):\n",
        "        article_title = get_soup(get_title[i]).find_all('div', class_='title')\n",
        "        for it in article_title:\n",
        "            try:\n",
        "                title.append(it.text)\n",
        "            except :continue\n",
        "        \n",
        "    return title\n",
        "print(get_article_title())"
      ],
      "execution_count": 14,
      "outputs": [
        {
          "output_type": "stream",
          "text": [
            "['\\n[討論] 現在開始追Doncic會太晚嗎?\\n', '\\n[花邊] 老河:今日全員可出戰 只有教練要負荷管理\\n', '\\n[BOX ] Kings 113:106 Wizards 數據\\n', '\\n[Live] 鵜鶘 @ 快艇\\n', '\\n[BOX ] Nets 103:101 Knicks 數據\\n', '\\nRe: [情報] Kemba Walker疑似腦震盪\\n', '\\n[情報] LBJ本賽季上下場湖人淨勝分+19.7\\n', '\\n[花邊] 講到退休 Richard Jefferson狠狠酸了尼克\\n', '\\n[情報] Doncic：去年我們有Dirk,所以防守較艱困\\n', '\\n[討論] 湖人這季算是跌破大家眼鏡嗎\\n', '\\n\\t\\t\\t\\n\\t\\t\\t\\t(本文已被刪除) [LABOYS]\\n\\t\\t\\t\\n\\t\\t\\t', '\\n[新聞] 唐西奇飆41分10助攻擊潰火箭\\u3000連4場30+10\\n', '\\n\\t\\t\\t\\n\\t\\t\\t\\t(本文已被刪除) [myths]\\n\\t\\t\\t\\n\\t\\t\\t', '\\n\\t\\t\\t\\n\\t\\t\\t\\t(本文已被刪除) [justgetup]\\n\\t\\t\\t\\n\\t\\t\\t', '\\n[BOX ] Suns 104:116 Nuggets 數據\\n', '\\n[外絮] LBJ在球迷跟他要簽名後放了個屁\\n', '\\nRe: [情報] Doncic：去年我們有Dirk,所以防守較艱困\\n', '\\n\\t\\t\\t\\n\\t\\t\\t\\t(已被Vedan刪除) <kqqmoney>其他-1-球迷討論\\n\\t\\t\\t\\n\\t\\t\\t', '\\n[討論] Ben Simmons和Draymond  Green像不像\\n', '\\n[討論] 我拓到底怎麼了！\\n', '\\nRe: [討論] 我拓到底怎麼了！\\n', '\\n[BOX ] Pelicans 109:134 Clippers 數據\\n', '\\n[新聞] 傷兵潮來襲 帕楚利亞找巫師勇士主場作法\\n', '\\n[討論] 尼克接下來的地獄賽程\\n', '\\n[情報] Kenny Atkinson談KI:他需要時間理解我們\\n', '\\n[討論] Doncic的切入蠻妙的\\n', '\\n\\t\\t\\t\\n\\t\\t\\t\\t(已被Vedan刪除) <fox1234>1-2\\n\\t\\t\\t\\n\\t\\t\\t', '\\n[情報] 灰熊放出消息 必須通過交易才能得到小ai\\n', '\\n\\t\\t\\t\\n\\t\\t\\t\\t(本文已被刪除) [youhow0418]\\n\\t\\t\\t\\n\\t\\t\\t', '\\n[花邊] Magic心目中MVP，LBJ、字母、Doncic前三\\n', '\\n[討論] Dlo跟KI要怎麼選？\\n', '\\n[新聞] 看好馬龍制霸現代 史塔克頓：能挑戰單場\\n', '\\n[討論] 現役最好的雙核心組合\\n', '\\nRe: [新聞] 看好馬龍制霸現代 史塔克頓：能挑戰單場\\n', '\\n[情報] Gordon Hayward 透過打電動來復健\\n', '\\n\\t\\t\\t\\n\\t\\t\\t\\t(已被Vedan刪除) <ll1117>1-1 1-2\\n\\t\\t\\t\\n\\t\\t\\t', '\\n[外絮] 乳摸:國王沒選Doncic是因Divac不喜歡他爸\\n', '\\n[情報] 全聯盟 30支球隊 - 攻防兩端水準示意圖\\n', '\\n\\t\\t\\t\\n\\t\\t\\t\\t(本文已被刪除) [XperiaZ6C]\\n\\t\\t\\t\\n\\t\\t\\t', '\\nRe: [新聞] 看好馬龍制霸現代 史塔克頓：能挑戰單場\\n', '\\n\\t\\t\\t\\n\\t\\t\\t\\t(本文已被刪除) [lan7894163]\\n\\t\\t\\t\\n\\t\\t\\t', '\\n[新聞] Walker拚帶傷盡早復出\\n', '\\nRe: [情報] 灰熊放出消息 必須通過交易才能得到小ai\\n', '\\n[新聞] 影／領先兩分傳給對手？籃網「神戰術」\\n', '\\n[花邊] 挑戰史上最年輕MVP？ 唐西奇：目標帶隊進\\n', '\\n[討論] 小AI現在還很搶手嗎\\n', '\\n[討論] 球員面對到突襲交易心臟需要有多大顆?\\n', '\\n\\t\\t\\t\\n\\t\\t\\t\\t(本文已被刪除) [hass231470]\\n\\t\\t\\t\\n\\t\\t\\t', '\\n[花邊] Richardson：被熱火交易後找了心理醫生\\n', '\\n[情報] NBA Standings (Nov. 25, 2019)\\n', '\\n[新聞] 到底？巴特勒自曝離隊是76人逼他的\\n', '\\n[情報] 勇士好消息！主力中鋒預計周六作客熱火回\\n', '\\n[情報] ★今日排名(2019.11.25)★\\n', '\\n[討論] 今年可以直接宣布總冠軍是快艇了\\n', '\\n\\t\\t\\t\\n\\t\\t\\t\\t(已被Vedan刪除) <terryyang214>動網文\\n\\t\\t\\t\\n\\t\\t\\t', '\\n[討論] 為什麼暴龍還能在東區那麼強？\\n', '\\nRe: [討論] 077是不是滿足大家當初對西門的期望\\n', '\\n[討論] 077是不是高白版哈登?\\n', '\\n\\t\\t\\t\\n\\t\\t\\t\\t(本文已被刪除) [dragon803]\\n\\t\\t\\t\\n\\t\\t\\t', '\\n[討論] NBA前總裁史騰呼籲NBA響應大麻合法化\\n', '\\nRe: [討論] 為什麼暴龍還能在東區那麼強？\\n', '\\n[新聞] 率隊創賽季前16戰最佳成績 詹皇：不會說\\n', '\\n[情報] ZAZA找人替新球場祈福\\n', '\\n[新聞] 丁威迪30分領軍 籃網退尼克收3連勝\\n', '\\n[新聞] 勇士總管將赴澳洲考察「球小弟」\\u3000\\n', '\\n[新聞] Harrell飆分平新高 快艇捕鵜鶘5連勝\\n', '\\n\\t\\t\\t\\n\\t\\t\\t\\t(本文已被刪除) [babe18]\\n\\t\\t\\t\\n\\t\\t\\t', '\\n[討論] 詹皇生涯最佳戰役是哪一場\\n', '\\n[外絮] Hart說在講到湖人負面評論後他趕快打電話\\n', '\\n\\t\\t\\t\\n\\t\\t\\t\\t(本文已被刪除) [gn00715334]\\n\\t\\t\\t\\n\\t\\t\\t', '\\n[情報] 各項數據排行(Week5)\\n', '\\n[Live] 魔術 @ 活塞\\n', '\\n[Live] 籃網 @ 騎士\\n', '\\n[Live] 灰熊 @ 溜馬\\n', '\\n[Live] 灰狼 @ 老鷹\\n', '\\n[Live] 國王 @ 超賽\\n', '\\n[Live] 黃蜂 @ 熱火\\n', '\\n[Live] 七六人 @ 暴龍\\n', '\\n[Live] 爵士 @ 公鹿\\n', '\\n[Live] 拓荒者 @ 公牛\\n', '\\n[情報] 上週東西區最球員：Dinwiddie, Doncic\\n', '\\n[Live] 湖人 @ 馬刺\\n', '\\n\\t\\t\\t\\n\\t\\t\\t\\t(本文已被刪除) [MPSSC]\\n\\t\\t\\t\\n\\t\\t\\t', '\\n[討論] 35歲的LBJ是不是真的很誇張\\n', '\\n[BOX ] Grizzlies 114:126 Pacers 數據\\n', '\\n[情報] 嘴綠今日因腳後跟傷勢將缺席對雷霆比賽\\n', '\\n[BOX ] Magic 88:103 Pistons 數據\\n', '\\n[花邊] Curry女兒Riley問嘴綠為何勇士一直輸\\n', '\\n[BOX ] Nets 108:106 Cavaliers 數據\\n', '\\n[討論] FMVP制度是不是該提前檢討了\\n', '\\n[Live] 雷霆 @ 勇士\\n', '\\n[BOX ] Sixers 96:101 Raptors 數據\\n', '\\n[BOX ] Timberwolves 125:113 Hawks 數據\\n', '\\n[BOX ] Kings 102:103 Celtics 數據\\n', '\\n[BOX ] Hornets 100:117 Heat 數據\\n', '\\n[BOX ] Blazers 117:94 Bulls 數據\\n', '\\n[情報] NBA官方推特祝賀LBJ例行賽進球達歷史第五\\n', '\\n[BOX ] Jazz 118:122 Bucks 數據\\n', '\\n[BOX ] Lakers 114:104 Spurs 數據\\n', '\\n[花邊] 國王隊四億元失竊事件 (2)\\n', '\\n[花邊] 媒體賽前發現Derozan 將自己IG內容\\n', '\\n[新聞] 單節12分！甜瓜回春轟全場最高分助隊勝\\n', '\\n[情報] Carmelo生涯總得分超越English，歷史第18\\n', '\\n[情報] 字母哥成為第4位單場50分10籃板0失誤球員\\n', '\\nRe: [情報] NBA官方推特祝賀LBJ例行賽進球達歷史第五\\n', '\\n[情報] 乳摸:馬刺有可能把DDR或AGG送到熱火\\n', '\\n[討論] Frank Vogel 真有料還是另一個Lue?\\n', '\\n\\t\\t\\t\\n\\t\\t\\t\\t(本文已被刪除) [VeryGoodBoy]\\n\\t\\t\\t\\n\\t\\t\\t', '\\n[情報] Embiid成為歷史第三個單場出手11次卻得分\\n', '\\n[BOX ] Thunder 100:97 Warriors 數據\\n', '\\n\\t\\t\\t\\n\\t\\t\\t\\t(已被Vedan刪除) <FatNerdLoser>1-1 1-2\\n\\t\\t\\t\\n\\t\\t\\t', '\\n[討論]Jonathan Isaac 魔術未來的大鎖\\n', '\\n[情報] 勇士最後6分鐘12中1 僅得三分還有2失誤\\n', '\\n[討論] Melo是不是該感謝Lillard\\n', '\\n[討論] DDR到底如何客觀評價?\\n', '\\n[新聞] 恩比德再遇剋星又「吃鱉」 整場被壓制一\\n', '\\n[花邊] 詹皇外線能力被馬刺逼出 全因2007年總冠軍戰被橫掃\\n', '\\n[情報] 勇士KT星期三面對公牛要上場......邊播報\\n', '\\n[花邊] James：很感激在馬刺主場被喊MVP，曾在此\\n', '\\nRe: [新聞] 看好馬龍制霸現代 史塔克頓：能挑戰單場\\n', '\\n[新聞] Adebayo雙十演出 熱火主場開季7連勝\\n', '\\nRe: [討論] DDR到底如何客觀評價?\\n', '\\n[討論] Cuban談Doncic及Dirk對他的影響\\n', '\\nRe: [情報] Cuban:獨行俠自由市場運作基本已經完成\\n', '\\n[討論] 哪隊還有第三節海嘯一波流?\\n', '\\nRe: [外絮] 乳摸:國王沒選Doncic是因Divac不喜歡他爸\\n', '\\n[新聞] 戴維斯將重返紐奧良 詹姆斯分享戰老東家\\n', '\\n[新聞] 勇士主場遭雷霆逆轉吞敗\\u3000柯爾嘆：對手\\n', '\\n[討論] CP3的合理薪資會是多少?\\n', '\\nRe: [花邊] 媒體賽前發現Derozan 將自己IG內容\\n', '\\n[新聞] 爆笑往事！零號探員曾「槍擊」黑人問號…\\n', '\\n[新聞] 比20歲的詹姆斯還厲害！ 唐西奇3項進階數\\n', '\\n\\t\\t\\t\\n\\t\\t\\t\\t(本文已被刪除) [fukawa947]\\n\\t\\t\\t\\n\\t\\t\\t', '\\n[討論] 放手的勇氣\\n', '\\n[討論]  聖誕大戰會有什麼特別商品嗎？\\n', '\\n\\t\\t\\t\\n\\t\\t\\t\\t(已被dragon803刪除) <lvntrs59>動網文\\n\\t\\t\\t\\n\\t\\t\\t', '\\n[情報] ★今日排名(2019.11.26)★\\n', '\\n[討論] Luka Doncic會代言什麼品牌球鞋\\n', '\\n[情報] LeBron James 生涯三分進球數超越 Peja\\n', '\\nRe: [討論] 詹皇生涯最佳戰役是哪一場\\n', '\\n[討論] 姆斯是體能球的極致嗎??\\n', '\\n[情報] NBA Standings (Nov. 26, 2019)\\n', '\\n[新聞] Drake狂喊「得分掛蛋」恩比德MVP\\u3000\\n', '\\n[情報] 湖人例行賽客場兩勝馬刺,十五年來首次\\n', '\\n\\t\\t\\t\\n\\t\\t\\t\\t(已被dragon803刪除) <meme4375>1-1 1-2違規\\n\\t\\t\\t\\n\\t\\t\\t', '\\n\\t\\t\\t\\n\\t\\t\\t\\t(已被dragon803刪除) <seisman>動網文\\n\\t\\t\\t\\n\\t\\t\\t', '\\n[花邊] NBA School Stereotypes\\n', '\\nRe: [情報] LeBron James 生涯三分進球數超越 Peja\\n', '\\n[Live] 快艇 @ 獨行俠\\n', '\\n[公告] 水桶\\n', '\\n[Live] 巫師 @ 金塊\\n', '\\n[公告] 板規v6.5\\n', '\\n[公告] 樂透取消及未來不再開啟樂透\\n', '\\n[公告] 版主上任相關事項 \\n', '\\n[情報] SEASON Schedule 賽程 November 19–20\\n', '\\n[公告] 修改板規3-3之第二階段投票開始囉\\n']\n"
          ],
          "name": "stdout"
        }
      ]
    },
    {
      "cell_type": "markdown",
      "metadata": {
        "id": "QAflsu9TP5ms",
        "colab_type": "text"
      },
      "source": [
        "## 作者"
      ]
    },
    {
      "cell_type": "code",
      "metadata": {
        "id": "rTeb12bAP9Eq",
        "colab_type": "code",
        "colab": {
          "base_uri": "https://localhost:8080/",
          "height": 54
        },
        "outputId": "999559e6-7bf0-477f-b3b4-e29a55fbcb46"
      },
      "source": [
        "def get_article_author():\n",
        "    author = []\n",
        "    get_author = get_pages()\n",
        "    for i in range(0,len(get_author)):\n",
        "        article_author = get_soup(get_author[i]).find_all('div', class_='author')\n",
        "        for it in article_author:\n",
        "            try:\n",
        "                author.append(it.text)\n",
        "            except :continue\n",
        "        \n",
        "    return author\n",
        "print(get_article_author())"
      ],
      "execution_count": 15,
      "outputs": [
        {
          "output_type": "stream",
          "text": [
            "['ColeNorris', 'manuginobii', 'Rambo', 'Rambo', 'Rambo', 'kymcoco', 'Angel0724', 'pneumo', 'ibakax', 'HEHEHEHEHE', '-', 'teramars', '-', '-', 'Rambo', 'pneumo', 'wadecp3', '-', 'www90173', 'funnyday', 'namie810303', 'Rambo', 'jk182325', 'permoon', 'VeryGoodBoy', 'tom80727', '-', 'manuginobii', '-', 'NSYSUheng', 'nwd4e9cd', 'Israfil', 'justgetup', 'birdyman', 'thnlkj0665', '-', 'pneumo', 'cody7052', '-', 'monmo', '-', 'justgetup', 'DAMNITYOU', 'peacepork', 'gt097231', 'ghost069', 'RedChoi', '-', 'kenny781558', 'JerroLi', 'fukawa947', 'fukawa947', 'Rambo', 'takizawahide', '-', 'ericgary', 'zsh256', 'skylion', '-', 'DADAO90', 'humbler', 'jack8587', 'terryyang214', 'Gotham', 's27052705', 'iam168888888', '-', 'ghost069', 'pneumo', '-', 'fukawa947', 'Rambo', 'Rambo', 'Rambo', 'Rambo', 'Rambo', 'Rambo', 'Rambo', 'Rambo', 'Rambo', 'Maxwell5566', 'Rambo', '-', 'ChrisDavis', 'Rambo', 'manuginobii', 'Rambo', 'pneumo', 'Rambo', 'Kimmy', 'Rambo', 'Rambo', 'Rambo', 'Rambo', 'Rambo', 'Rambo', 'Yui5', 'Rambo', 'Rambo', 'etbear', 'karta1992560', 'dakkk', 'NSYSUheng', 'avrild12', 'penny1ai3', 'Ayanami5566', 'JasperLo', '-', 'WIGGINS22', 'Rambo', '-', 'skylove21', 'Angel0724', 'a221657947', 'nwd4e9cd', 'VeryGoodBoy', 'thnlkj0665', 'pneumo', 'NSYSUheng', 'monmo', 'justgetup', 'love1500274', 'jackal44748', 'zakijudelo', 'KyrieIrving1', 'GodEyes', 'lovea', 'jk182325', 'gogopacer', 'ericgary', 'moment173', 'gy00015', '-', 'humbler', 'W12', '-', 'Rambo', 'KevinLove', 'thnlkj0665', 'NSYSUheng', 'ted3698', 'JerroLi', 's27052705', 'LeBronJame23', '-', '-', 'melman87', 'nocturne', 'Rambo', 'Vedan', 'Rambo', 'Vedan', 'Vedan', 'qazwsx879345', 'JerroLi', 'Vedan']\n"
          ],
          "name": "stdout"
        }
      ]
    },
    {
      "cell_type": "code",
      "metadata": {
        "id": "WwGuoZOwVeI5",
        "colab_type": "code",
        "outputId": "d9c866d1-5ac5-4a73-d740-bed8c8a84600",
        "colab": {
          "base_uri": "https://localhost:8080/",
          "height": 54
        }
      },
      "source": [
        "\n",
        "\n",
        "def article():\n",
        "    data = []\n",
        "    article = {} \n",
        "    get_article = get_article_web()   \n",
        "    for j in range(0,len(get_article)):\n",
        "        article['網址'] = get_article[j]\n",
        "        #print(article['網址'])\n",
        "        try:\n",
        "            article['作者'] = get_soup(get_article[j]).find_all('span', class_='article-meta-value')[0].text\n",
        "            #print(article['作者'])\n",
        "            article['標題'] = get_soup(get_article[j]).find_all('span', class_='article-meta-value')[2].text\n",
        "            #print(article['標題'])\n",
        "            article['時間'] = get_soup(get_article[j]).find_all('span', class_='article-meta-value')[3].text\n",
        "            #article['內文'] = get_soup(get_article[j]).find_all('div', class_='bbs-screen bbs-content')[0].text\n",
        "        except :continue\n",
        "        data.append(article)\n",
        "        \n",
        "    return data\n",
        "    \n",
        "    \n",
        "#article= get_soup(get_article_web(1)[1]).find_all('span', class_='article-meta-value')[3].text\n",
        "print(article())\n"
      ],
      "execution_count": 19,
      "outputs": [
        {
          "output_type": "stream",
          "text": [
            "[{'網址': '本文已被刪除', '作者': 'LeBronJame23 (LeBron James 23號)', '標題': '[情報] 湖人例行賽客場兩勝馬刺,十五年來首次', '時間': 'Tue Nov 26 23:23:12 2019'}, {'網址': '本文已被刪除', '作者': 'LeBronJame23 (LeBron James 23號)', '標題': '[情報] 湖人例行賽客場兩勝馬刺,十五年來首次', '時間': 'Tue Nov 26 23:23:12 2019'}, {'網址': '本文已被刪除', '作者': 'LeBronJame23 (LeBron James 23號)', '標題': '[情報] 湖人例行賽客場兩勝馬刺,十五年來首次', '時間': 'Tue Nov 26 23:23:12 2019'}, {'網址': '本文已被刪除', '作者': 'LeBronJame23 (LeBron James 23號)', '標題': '[情報] 湖人例行賽客場兩勝馬刺,十五年來首次', '時間': 'Tue Nov 26 23:23:12 2019'}, {'網址': '本文已被刪除', '作者': 'LeBronJame23 (LeBron James 23號)', '標題': '[情報] 湖人例行賽客場兩勝馬刺,十五年來首次', '時間': 'Tue Nov 26 23:23:12 2019'}, {'網址': '本文已被刪除', '作者': 'LeBronJame23 (LeBron James 23號)', '標題': '[情報] 湖人例行賽客場兩勝馬刺,十五年來首次', '時間': 'Tue Nov 26 23:23:12 2019'}, {'網址': '本文已被刪除', '作者': 'LeBronJame23 (LeBron James 23號)', '標題': '[情報] 湖人例行賽客場兩勝馬刺,十五年來首次', '時間': 'Tue Nov 26 23:23:12 2019'}, {'網址': '本文已被刪除', '作者': 'LeBronJame23 (LeBron James 23號)', '標題': '[情報] 湖人例行賽客場兩勝馬刺,十五年來首次', '時間': 'Tue Nov 26 23:23:12 2019'}, {'網址': '本文已被刪除', '作者': 'LeBronJame23 (LeBron James 23號)', '標題': '[情報] 湖人例行賽客場兩勝馬刺,十五年來首次', '時間': 'Tue Nov 26 23:23:12 2019'}, {'網址': '本文已被刪除', '作者': 'LeBronJame23 (LeBron James 23號)', '標題': '[情報] 湖人例行賽客場兩勝馬刺,十五年來首次', '時間': 'Tue Nov 26 23:23:12 2019'}, {'網址': '本文已被刪除', '作者': 'LeBronJame23 (LeBron James 23號)', '標題': '[情報] 湖人例行賽客場兩勝馬刺,十五年來首次', '時間': 'Tue Nov 26 23:23:12 2019'}, {'網址': '本文已被刪除', '作者': 'LeBronJame23 (LeBron James 23號)', '標題': '[情報] 湖人例行賽客場兩勝馬刺,十五年來首次', '時間': 'Tue Nov 26 23:23:12 2019'}, {'網址': '本文已被刪除', '作者': 'LeBronJame23 (LeBron James 23號)', '標題': '[情報] 湖人例行賽客場兩勝馬刺,十五年來首次', '時間': 'Tue Nov 26 23:23:12 2019'}, {'網址': '本文已被刪除', '作者': 'LeBronJame23 (LeBron James 23號)', '標題': '[情報] 湖人例行賽客場兩勝馬刺,十五年來首次', '時間': 'Tue Nov 26 23:23:12 2019'}, {'網址': '本文已被刪除', '作者': 'LeBronJame23 (LeBron James 23號)', '標題': '[情報] 湖人例行賽客場兩勝馬刺,十五年來首次', '時間': 'Tue Nov 26 23:23:12 2019'}, {'網址': '本文已被刪除', '作者': 'LeBronJame23 (LeBron James 23號)', '標題': '[情報] 湖人例行賽客場兩勝馬刺,十五年來首次', '時間': 'Tue Nov 26 23:23:12 2019'}, {'網址': '本文已被刪除', '作者': 'LeBronJame23 (LeBron James 23號)', '標題': '[情報] 湖人例行賽客場兩勝馬刺,十五年來首次', '時間': 'Tue Nov 26 23:23:12 2019'}, {'網址': '本文已被刪除', '作者': 'LeBronJame23 (LeBron James 23號)', '標題': '[情報] 湖人例行賽客場兩勝馬刺,十五年來首次', '時間': 'Tue Nov 26 23:23:12 2019'}, {'網址': '本文已被刪除', '作者': 'LeBronJame23 (LeBron James 23號)', '標題': '[情報] 湖人例行賽客場兩勝馬刺,十五年來首次', '時間': 'Tue Nov 26 23:23:12 2019'}, {'網址': '本文已被刪除', '作者': 'LeBronJame23 (LeBron James 23號)', '標題': '[情報] 湖人例行賽客場兩勝馬刺,十五年來首次', '時間': 'Tue Nov 26 23:23:12 2019'}, {'網址': '本文已被刪除', '作者': 'LeBronJame23 (LeBron James 23號)', '標題': '[情報] 湖人例行賽客場兩勝馬刺,十五年來首次', '時間': 'Tue Nov 26 23:23:12 2019'}, {'網址': '本文已被刪除', '作者': 'LeBronJame23 (LeBron James 23號)', '標題': '[情報] 湖人例行賽客場兩勝馬刺,十五年來首次', '時間': 'Tue Nov 26 23:23:12 2019'}, {'網址': '本文已被刪除', '作者': 'LeBronJame23 (LeBron James 23號)', '標題': '[情報] 湖人例行賽客場兩勝馬刺,十五年來首次', '時間': 'Tue Nov 26 23:23:12 2019'}, {'網址': '本文已被刪除', '作者': 'LeBronJame23 (LeBron James 23號)', '標題': '[情報] 湖人例行賽客場兩勝馬刺,十五年來首次', '時間': 'Tue Nov 26 23:23:12 2019'}, {'網址': '本文已被刪除', '作者': 'LeBronJame23 (LeBron James 23號)', '標題': '[情報] 湖人例行賽客場兩勝馬刺,十五年來首次', '時間': 'Tue Nov 26 23:23:12 2019'}, {'網址': '本文已被刪除', '作者': 'LeBronJame23 (LeBron James 23號)', '標題': '[情報] 湖人例行賽客場兩勝馬刺,十五年來首次', '時間': 'Tue Nov 26 23:23:12 2019'}, {'網址': '本文已被刪除', '作者': 'LeBronJame23 (LeBron James 23號)', '標題': '[情報] 湖人例行賽客場兩勝馬刺,十五年來首次', '時間': 'Tue Nov 26 23:23:12 2019'}, {'網址': '本文已被刪除', '作者': 'LeBronJame23 (LeBron James 23號)', '標題': '[情報] 湖人例行賽客場兩勝馬刺,十五年來首次', '時間': 'Tue Nov 26 23:23:12 2019'}, {'網址': '本文已被刪除', '作者': 'LeBronJame23 (LeBron James 23號)', '標題': '[情報] 湖人例行賽客場兩勝馬刺,十五年來首次', '時間': 'Tue Nov 26 23:23:12 2019'}, {'網址': '本文已被刪除', '作者': 'LeBronJame23 (LeBron James 23號)', '標題': '[情報] 湖人例行賽客場兩勝馬刺,十五年來首次', '時間': 'Tue Nov 26 23:23:12 2019'}, {'網址': '本文已被刪除', '作者': 'LeBronJame23 (LeBron James 23號)', '標題': '[情報] 湖人例行賽客場兩勝馬刺,十五年來首次', '時間': 'Tue Nov 26 23:23:12 2019'}, {'網址': '本文已被刪除', '作者': 'LeBronJame23 (LeBron James 23號)', '標題': '[情報] 湖人例行賽客場兩勝馬刺,十五年來首次', '時間': 'Tue Nov 26 23:23:12 2019'}, {'網址': '本文已被刪除', '作者': 'LeBronJame23 (LeBron James 23號)', '標題': '[情報] 湖人例行賽客場兩勝馬刺,十五年來首次', '時間': 'Tue Nov 26 23:23:12 2019'}, {'網址': '本文已被刪除', '作者': 'LeBronJame23 (LeBron James 23號)', '標題': '[情報] 湖人例行賽客場兩勝馬刺,十五年來首次', '時間': 'Tue Nov 26 23:23:12 2019'}, {'網址': '本文已被刪除', '作者': 'LeBronJame23 (LeBron James 23號)', '標題': '[情報] 湖人例行賽客場兩勝馬刺,十五年來首次', '時間': 'Tue Nov 26 23:23:12 2019'}, {'網址': '本文已被刪除', '作者': 'LeBronJame23 (LeBron James 23號)', '標題': '[情報] 湖人例行賽客場兩勝馬刺,十五年來首次', '時間': 'Tue Nov 26 23:23:12 2019'}, {'網址': '本文已被刪除', '作者': 'LeBronJame23 (LeBron James 23號)', '標題': '[情報] 湖人例行賽客場兩勝馬刺,十五年來首次', '時間': 'Tue Nov 26 23:23:12 2019'}, {'網址': '本文已被刪除', '作者': 'LeBronJame23 (LeBron James 23號)', '標題': '[情報] 湖人例行賽客場兩勝馬刺,十五年來首次', '時間': 'Tue Nov 26 23:23:12 2019'}, {'網址': '本文已被刪除', '作者': 'LeBronJame23 (LeBron James 23號)', '標題': '[情報] 湖人例行賽客場兩勝馬刺,十五年來首次', '時間': 'Tue Nov 26 23:23:12 2019'}, {'網址': '本文已被刪除', '作者': 'LeBronJame23 (LeBron James 23號)', '標題': '[情報] 湖人例行賽客場兩勝馬刺,十五年來首次', '時間': 'Tue Nov 26 23:23:12 2019'}, {'網址': '本文已被刪除', '作者': 'LeBronJame23 (LeBron James 23號)', '標題': '[情報] 湖人例行賽客場兩勝馬刺,十五年來首次', '時間': 'Tue Nov 26 23:23:12 2019'}, {'網址': '本文已被刪除', '作者': 'LeBronJame23 (LeBron James 23號)', '標題': '[情報] 湖人例行賽客場兩勝馬刺,十五年來首次', '時間': 'Tue Nov 26 23:23:12 2019'}, {'網址': '本文已被刪除', '作者': 'LeBronJame23 (LeBron James 23號)', '標題': '[情報] 湖人例行賽客場兩勝馬刺,十五年來首次', '時間': 'Tue Nov 26 23:23:12 2019'}, {'網址': '本文已被刪除', '作者': 'LeBronJame23 (LeBron James 23號)', '標題': '[情報] 湖人例行賽客場兩勝馬刺,十五年來首次', '時間': 'Tue Nov 26 23:23:12 2019'}]\n"
          ],
          "name": "stdout"
        }
      ]
    },
    {
      "cell_type": "code",
      "metadata": {
        "id": "o4l2PBk41nb_",
        "colab_type": "code",
        "colab": {}
      },
      "source": [
        "\n",
        "def get_today_pages():#從前一日列表開始\n",
        "    today_pages = []\n",
        "    n = len(get_pages()) #測試用頁面\n",
        "    while True:\n",
        "        url = 'https://www.ptt.cc/bbs/NBA/index'+str(n)+'.html'\n",
        "        lessons = get_soup(url).select('a' )\n",
        "        if lessons == []:\n",
        "            break\n",
        "        else :\n",
        "            today_pages.append(url)\n",
        "            n += 1\n",
        "            #print(url)\n",
        "            #time.sleep(0.5)\n",
        "    return today_pages\n"
      ],
      "execution_count": 0,
      "outputs": []
    }
  ]
}