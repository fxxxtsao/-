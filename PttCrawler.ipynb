{
  "nbformat": 4,
  "nbformat_minor": 0,
  "metadata": {
    "colab": {
      "name": "PttCrawler.ipynb",
      "provenance": [],
      "collapsed_sections": [],
      "include_colab_link": true
    },
    "kernelspec": {
      "name": "python3",
      "display_name": "Python 3"
    },
    "accelerator": "TPU"
  },
  "cells": [
    {
      "cell_type": "markdown",
      "metadata": {
        "id": "view-in-github",
        "colab_type": "text"
      },
      "source": [
        "<a href=\"https://colab.research.google.com/github/fxxxtsao/Crawler/blob/master/PttCrawler.ipynb\" target=\"_parent\"><img src=\"https://colab.research.google.com/assets/colab-badge.svg\" alt=\"Open In Colab\"/></a>"
      ]
    },
    {
      "cell_type": "code",
      "metadata": {
        "id": "PmJ5odsYLWMS",
        "colab_type": "code",
        "colab": {}
      },
      "source": [
        "import requests\n",
        "from bs4 import BeautifulSoup as bs\n",
        "import json \n",
        "import re\n",
        "import time\n",
        "from multiprocessing import Pool\n",
        "\n",
        "# 熱門看板列表: https://www.ptt.cc/bbs/hotboards.html\n",
        "def get_soup(item):\n",
        "    headers = {'user-agent': 'Mozilla/5.0 (Windows NT 6.1) AppleWebKit/537.36 (KHTML, like Gecko) Chrome/52.0.2743.116 Safari/537.36'}\n",
        "    res = requests.get(item, headers=headers, cookies={'over18': '1'}).text\n",
        "    soup = bs(res, 'lxml')\n",
        "    return soup\n",
        "\n",
        "def get_pages():\n",
        "    pages = []\n",
        "    n = 6500 #測試用頁面\n",
        "    while True:\n",
        "        url = 'https://www.ptt.cc/bbs/NBA/index'+str(n)+'.html'\n",
        "        lessons = get_soup(url).select('a' )\n",
        "        if lessons == []:\n",
        "            break\n",
        "        else :\n",
        "            pages.append(url)\n",
        "            n += 1\n",
        "            #print(url)\n",
        "            #time.sleep(0.5)\n",
        "    return pages\n",
        "\n",
        "def get_article_web():\n",
        "    web = []\n",
        "    push = []\n",
        "    for i in range(0,len(get_pages())):\n",
        "        article_web = get_soup(get_pages()[i]).find_all('div', class_='title')\n",
        "    #print(article_web) \n",
        "    #print(get_article_web()[0])\n",
        "        for item in article_web:\n",
        "            try:\n",
        "                web.append('https://www.ptt.cc/'+item.find('a').get('href'))\n",
        "            except :continue\n",
        "    return web\n",
        "#print(get_article_web()[0])"
      ],
      "execution_count": 0,
      "outputs": []
    },
    {
      "cell_type": "markdown",
      "metadata": {
        "id": "wDARDGruQ7bn",
        "colab_type": "text"
      },
      "source": [
        "### 推文數　"
      ]
    },
    {
      "cell_type": "code",
      "metadata": {
        "id": "qPNttNgm-l-z",
        "colab_type": "code",
        "outputId": "91c567ae-48d5-41b8-df42-04f01e96c566",
        "colab": {
          "base_uri": "https://localhost:8080/",
          "height": 54
        }
      },
      "source": [
        "def get_article_push():\n",
        "    push = []\n",
        "    for i in range(0,len(get_pages())):\n",
        "        article_push = get_soup(get_pages()[i]).find_all('div', class_='nrec')\n",
        "        for pu in article_push:\n",
        "            try:\n",
        "                push.append(pu.find('span').text)\n",
        "            except :continue\n",
        "    return push\n",
        "\n",
        "print(get_article_push())"
      ],
      "execution_count": 14,
      "outputs": [
        {
          "output_type": "stream",
          "text": [
            "['21', '9', '94', '爆', '61', 'XX', '14', '93', '12', '85', '3', '27', '34', '26', '35', '45', '60', '54', '12', '5', '55', '13', '24', '83', '11', '37', '26', '27', '56', '32', '38', '爆', '16', '2', '99', '53', '45', '76', '30', '爆', '21', '57', '爆', '爆', '16', '58', '16', '爆', '爆', '67', '1', '21', '39', '99', '23', '9', '76', 'X1', '55', '91', '24', '60', '69', '爆', '爆', 'X1', '33', '39', '爆', '91', '80', '54', '93', '64', '46', '92', '1', '73', '爆', '50', '87', '49', '35', '11', '16', '33', '38', '48', '5', '38', '爆', '11', '29', '1', '39', '28', '11', '5', '20', '26', '21', '16', '爆', '31', '33', '2', '23', '11', '5', '10', '4', '52', '19', '57', '87', '爆', '2', '爆', '11', '21', '70', '爆', 'X2', '90', '爆', '53', '24', '27', '爆', '59', '77', '爆', '19', '54', '24', '40', '50', '6', '爆', '32', '17', '28', '爆', '35', '39', '6']\n"
          ],
          "name": "stdout"
        }
      ]
    },
    {
      "cell_type": "markdown",
      "metadata": {
        "id": "E4NL4XseTaS1",
        "colab_type": "text"
      },
      "source": [
        "### 文章略標　"
      ]
    },
    {
      "cell_type": "code",
      "metadata": {
        "id": "pwEXZZgjTZJG",
        "colab_type": "code",
        "colab": {
          "base_uri": "https://localhost:8080/",
          "height": 54
        },
        "outputId": "532739ed-307a-4e0a-db91-34c7f00b1638"
      },
      "source": [
        "def get_article_title():\n",
        "    title = []\n",
        "    for i in range(0,len(get_pages())):\n",
        "        article_title = get_soup(get_pages()[i]).find_all('div', class_='title')\n",
        "        for it in article_title:\n",
        "            try:\n",
        "                title.append(it.find('a').text)\n",
        "            except :continue\n",
        "        \n",
        "    return title\n",
        "print(get_article_title())"
      ],
      "execution_count": 18,
      "outputs": [
        {
          "output_type": "stream",
          "text": [
            "['[新聞] 拉文49分13顆外線創公牛隊史新高\\u30000.8秒', '[新聞] 楊恩大三元無用 暴龍成功擒下老鷹收3連勝', '[討論] 目前為止，哪隊換新教練最有感？', '[花邊] LBJ談全場0罰球：習慣了，過去幾場胳膊上', '[花邊] Dragic前年評Doncic:他會是世界最佳之一', '[花邊] 感念NBA先驅三阪亙 林書豪：望你在天堂安', '[情報]  Ja Morant ', 'Fw: [公告] 請使用安全的連線方式連線本站', '[花邊] 隊友發聲：多數人都能得到罰球，LBJ卻沒', '[花邊] 林書豪對決前CBA助攻王\\u3000急需勝利扭轉氣', '[花邊] NBA擬單淘汰盃賽 改季後種子排序', '[花邊] 中年婦女之友！Curry更新社媒曬自己參加', '[新聞] 噪音導致賽前無法補眠  詹皇照帶隊贏球', '[情報] 布克差1助攻三雙:首要是用正確方式打球', '[討論] 小球當道 已經沒有人低位單打了嗎?', '[新聞] 詹皇獲0罰球主帥上訴 戴維斯：他不假摔', '[討論] Ben Simmons這季是不是沒什麼進步?', '[情報] ★今日排名(2019.11.24)★', 'Re: [討論] 小球單道 已經沒有人低位單打了嗎?', 'Re: [討論] 小球當道 已經沒有人低位單打了嗎?', '[討論] 湖人在三分線的防守能力', '[情報] Kyle Lowry透露CP3在總冠軍戰期間給他建議', '[討論] Lavine今天三分球絕殺的跳投高度', '[新聞] 回費城被狂噓 Butler：沒注意', '[討論] 77會超越大鳥成為史上最強白人球員嗎?', '[情報] NBA Standings (Nov. 24, 2019)', '[花邊] 國王隊四億元失竊事件 (1)', '[討論]起跳高度之外  Lavine的高難度腳步', '[新聞] 最新球迷忠誠度排名 鋼鐵湖粉排第一', '[Live] 獨行俠 @ 火箭', '[Live] 籃網 @ 尼克', '[Live] 國王 @ 巫師', '[BOX ] Mavericks 137:123 Rockets 數據', '[情報] Luka Doncic生涯2000分、連4場30+10', '[舊聞] Doncic連線KP 小哈德威要當隊上芬利', '[情報] Doncic連4場30+分和10+助攻 1984年來第4位', '[Live] 太陽 @ 金塊', '[討論] 現在開始追Doncic會太晚嗎?', '[花邊] 老河:今日全員可出戰 只有教練要負荷管理', '[BOX ] Kings 113:106 Wizards 數據', '[Live] 鵜鶘 @ 快艇', '[BOX ] Nets 103:101 Knicks 數據', 'Re: [情報] Kemba Walker疑似腦震盪', '[情報] LBJ本賽季上下場湖人淨勝分+19.7', '[花邊] 講到退休 Richard Jefferson狠狠酸了尼克', '[情報] Doncic：去年我們有Dirk,所以防守較艱困', '[討論] 湖人這季算是跌破大家眼鏡嗎', '[新聞] 唐西奇飆41分10助攻擊潰火箭\\u3000連4場30+10', '[BOX ] Suns 104:116 Nuggets 數據', '[外絮] LBJ在球迷跟他要簽名後放了個屁', 'Re: [情報] Doncic：去年我們有Dirk,所以防守較艱困', '[討論] Ben Simmons和Draymond  Green像不像', '[討論] 我拓到底怎麼了！', 'Re: [討論] 我拓到底怎麼了！', '[BOX ] Pelicans 109:134 Clippers 數據', '[新聞] 傷兵潮來襲 帕楚利亞找巫師勇士主場作法', '[討論] 尼克接下來的地獄賽程', '[情報] Kenny Atkinson談KI:他需要時間理解我們', '[討論] Doncic的切入蠻妙的', '[情報] 灰熊放出消息 必須通過交易才能得到小ai', '[花邊] Magic心目中MVP，LBJ、字母、Doncic前三', '[討論] Dlo跟KI要怎麼選？', '[新聞] 看好馬龍制霸現代 史塔克頓：能挑戰單場', '[討論] 現役最好的雙核心組合', 'Re: [新聞] 看好馬龍制霸現代 史塔克頓：能挑戰單場', '[情報] Gordon Hayward 透過打電動來復健', '[外絮] 乳摸:國王沒選Doncic是因Divac不喜歡他爸', '[情報] 全聯盟 30支球隊 - 攻防兩端水準示意圖', 'Re: [新聞] 看好馬龍制霸現代 史塔克頓：能挑戰單場', '[新聞] Walker拚帶傷盡早復出', 'Re: [情報] 灰熊放出消息 必須通過交易才能得到小ai', '[新聞] 影／領先兩分傳給對手？籃網「神戰術」', '[花邊] 挑戰史上最年輕MVP？ 唐西奇：目標帶隊進', '[討論] 小AI現在還很搶手嗎', '[討論] 球員面對到突襲交易心臟需要有多大顆?', '[花邊] Richardson：被熱火交易後找了心理醫生', '[情報] NBA Standings (Nov. 25, 2019)', '[新聞] 到底？巴特勒自曝離隊是76人逼他的', '[情報] 勇士好消息！主力中鋒預計周六作客熱火回', '[情報] ★今日排名(2019.11.25)★', '[討論] 今年可以直接宣布總冠軍是快艇了', '[外絮] [影片] 超搞笑！詹皇假動作後熱情擁抱，', '[討論] 為什麼暴龍還能在東區那麼強？', 'Re: [討論] 077是不是滿足大家當初對西門的期望', '[討論] 077是不是高白版哈登?', '[討論] NBA前總裁史騰呼籲NBA響應大麻合法化', 'Re: [討論] 為什麼暴龍還能在東區那麼強？', '[新聞] 率隊創賽季前16戰最佳成績 詹皇：不會說', '[情報] ZAZA找人替新球場祈福', '[新聞] 丁威迪30分領軍 籃網退尼克收3連勝', '[新聞] 勇士總管將赴澳洲考察「球小弟」\\u3000', '[新聞] Harrell飆分平新高 快艇捕鵜鶘5連勝', '[討論] 詹皇生涯最佳戰役是哪一場', '[外絮] Hart說在講到湖人負面評論後他趕快打電話', '[情報] 各項數據排行(Week5)', '[Live] 魔術 @ 活塞', '[Live] 籃網 @ 騎士', '[Live] 灰熊 @ 溜馬', '[Live] 灰狼 @ 老鷹', '[Live] 國王 @ 超賽', '[Live] 黃蜂 @ 熱火', '[Live] 七六人 @ 暴龍', '[Live] 爵士 @ 公鹿', '[Live] 拓荒者 @ 公牛', '[情報] 上週東西區最球員：Dinwiddie, Doncic', '[Live] 湖人 @ 馬刺', '[討論] 35歲的LBJ是不是真的很誇張', '[BOX ] Grizzlies 114:126 Pacers 數據', '[情報] 嘴綠今日因腳後跟傷勢將缺席對雷霆比賽', '[BOX ] Magic 88:103 Pistons 數據', '[花邊] Curry女兒Riley問嘴綠為何勇士一直輸', '[BOX ] Nets 108:106 Cavaliers 數據', '[討論] FMVP制度是不是該提前檢討了', '[Live] 雷霆 @ 勇士', '[BOX ] Sixers 96:101 Raptors 數據', '[BOX ] Timberwolves 125:113 Hawks 數據', '[BOX ] Kings 102:103 Celtics 數據', '[BOX ] Hornets 100:117 Heat 數據', '[BOX ] Blazers 117:94 Bulls 數據', '[情報] NBA官方推特祝賀LBJ例行賽進球達歷史第五', '[BOX ] Jazz 118:122 Bucks 數據', '[BOX ] Lakers 114:104 Spurs 數據', '[花邊] 國王隊四億元失竊事件 (2)', '[花邊] 媒體賽前發現Derozan 將自己IG內容', '[新聞] 單節12分！甜瓜回春轟全場最高分助隊勝', '[情報] Carmelo生涯總得分超越English，歷史第18', '[情報] 字母哥成為第4位單場50分10籃板0失誤球員', 'Re: [情報] NBA官方推特祝賀LBJ例行賽進球達歷史第五', '[情報] 乳摸:馬刺有可能把DDR或AGG送到熱火', '[討論] Frank Vogel 真有料還是另一個Lue?', '[情報] Embiid成為歷史第三個單場出手11次卻得分', '[BOX ] Thunder 100:97 Warriors 數據', '[公告] 板規v6.5', '[公告] 樂透取消及未來不再開啟樂透', '[公告] 版主上任相關事項 ', '[情報] SEASON Schedule 賽程 November 19–20', '[公告] 修改板規3-3之第二階段投票開始囉']\n"
          ],
          "name": "stdout"
        }
      ]
    },
    {
      "cell_type": "markdown",
      "metadata": {
        "id": "QAflsu9TP5ms",
        "colab_type": "text"
      },
      "source": [
        "## 作者"
      ]
    },
    {
      "cell_type": "code",
      "metadata": {
        "id": "rTeb12bAP9Eq",
        "colab_type": "code",
        "colab": {
          "base_uri": "https://localhost:8080/",
          "height": 34
        },
        "outputId": "22fc96b7-eb22-439c-9770-60ff5e665b5b"
      },
      "source": [
        "def get_article_author():\n",
        "    author = []\n",
        "    for i in range(0,len(get_pages())):\n",
        "        article_author = get_soup(get_pages()[i]).find_all('div', class_='author')\n",
        "        for it in article_author:\n",
        "            try:\n",
        "                author.append(it.find('a').text)\n",
        "            except :continue\n",
        "        \n",
        "    return author\n",
        "print(get_article_author())"
      ],
      "execution_count": 20,
      "outputs": [
        {
          "output_type": "stream",
          "text": [
            "[]\n"
          ],
          "name": "stdout"
        }
      ]
    },
    {
      "cell_type": "code",
      "metadata": {
        "id": "WwGuoZOwVeI5",
        "colab_type": "code",
        "outputId": "fd56d8e2-5321-4147-a6d0-c69796868f98",
        "colab": {
          "base_uri": "https://localhost:8080/",
          "height": 54
        }
      },
      "source": [
        "\n",
        "\n",
        "def article():\n",
        "    data = []\n",
        "    article = {}    \n",
        "    for j in range(0,len(get_article_web())):\n",
        "        article['網址'] = get_article_web()[j]\n",
        "        #print(article['網址'])\n",
        "        try:\n",
        "            article['作者'] = get_soup(get_article_web()[j]).find_all('span', class_='article-meta-value')[0].text\n",
        "            #print(article['作者'])\n",
        "            article['標題'] = get_soup(get_article_web()[j]).find_all('span', class_='article-meta-value')[2].text\n",
        "            #print(article['標題'])\n",
        "            article['時間'] = get_soup(get_article_web()[j]).find_all('span', class_='article-meta-value')[3].text\n",
        "    #article['內文'] = get_soup(get_article_web()[j]).find_all('div', class_='bbs-screen bbs-content')[0].text\n",
        "        except :continue\n",
        "        data.append(article)\n",
        "    return data\n",
        "    \n",
        "    \n",
        "#article= get_soup(get_article_web(1)[1]).find_all('span', class_='article-meta-value')[3].text\n",
        "#print(article())\n"
      ],
      "execution_count": 0,
      "outputs": [
        {
          "output_type": "stream",
          "text": [
            "[{'分頁': 'https://www.ptt.cc/bbs/NBA/index6500.html', '網址': 'https://www.ptt.cc//bbs/NBA/M.1574573669.A.72E.html', '推文': '21', '作者': 'teramars (tomorrow never knows)', '標題': '[新聞] 拉文49分13顆外線創公牛隊史新高\\u30000.8秒', '時間': 'Sun Nov 24 13:34:26 2019', '內文': '作者teramars (tomorrow never knows)看板NBA標題[新聞] 拉文49分13顆外線創公牛隊史新高\\u30000.8秒時間Sun Nov 24 13:34:26 2019\\n  拉文49分13顆外線創公牛隊史新高\\u30000.8秒絕殺黃蜂\\n\\n\\n前一戰被冰在板凳的拉文（Zach LaVine）對上黃蜂大爆發，不僅狂轟13顆外線寫下公牛\\n\\n隊史紀錄，49分也打破個人生涯最高，比賽結束前0.8秒更投進超前的三分球，幫助公牛\\n\\n116比115險勝黃蜂。\\n\\n\\n拉文在前一戰對熱火的比賽中，一度被教練柏伊蘭（Jim Boylen）冰在板凳，拉文也公開\\n\\n表示感覺到教練對他的不信任。不過本戰大復活的他外線17投13中，追平柯瑞(Stephen\\n\\nCurry)的單場第2多三分球紀錄，而且其中7顆在第4節投進，也平了隊史單節紀錄。\\n\\n\\n儘管如此，公牛在最後1分鐘落後達8分。而在過去20個球季，在如此狀況下的15,266場比\\n\\n賽，只有9次成功逆轉，勝率只有0.059%。不過薩托蘭斯基(Tomas Satoransky)先在終場8\\n\\n秒投進外線，懷特(Coby White)成功抄到底線發球，再給到拉文投進準絕殺外線，116比\\n\\n115逆轉；在比賽最後1分鐘，拉文一個人就投進3顆三分球。\\n\\n\\n拉文成為2015年的「飆風玫瑰」羅斯(Derrick Rose)在2015年季後賽對騎士以來，第1位\\n\\n在終場前1秒之內，投進追平三分球的球員。而公牛上一次在例行賽，出現這種緊要關頭\\n\\n的絕殺，已是喬丹(Michael Jordan)在1997年絕殺黃蜂。\\n\\n\\n\\n記者林育正／綜合報導\\n\\nhttps://sports.ettoday.net/news/1586985?redirect=1\\n\\n--\\n※ 發信站: 批踢踢實業坊(ptt.cc), 來自: 182.234.74.135 (臺灣)\\n※ 文章網址: https://www.ptt.cc/bbs/NBA/M.1574573669.A.72E.html\\n推 SwissMiniGun: 又是黃蜂 真有緣 11/24 13:36\\n→ Pixis       : 又是黃蜂笑死 11/24 13:38\\n推 mercuries2  : 落後8分還贏的那九場，應該有一場是tmac35秒13分吧 11/24 13:40\\n→ mercuries2  : ，不是很清楚那場比賽最後一分鐘時火箭落後幾分 11/24 13:40\\n推 rojjujj     : 這真的精典 11/24 13:43\\n推 peanut910013: 記得最後是一波15：4 影片從姚明灌籃開始 應該追了1 11/24 13:49\\n→ peanut910013: 0分 11/24 13:49\\n推 t79102xw    : 最後ㄧ球連空氣都凝結了 LaVine那姿勢美如畫 11/24 13:57\\n推 DwyaneWade  : lavine真他媽暴幹帥 11/24 14:06\\n推 iamaq18c    : 帥死我了！ 11/24 14:08\\n推 peacedove   : tmac那場沒記錯也是八分 11/24 14:19\\n推 taihsin     : 猛 11/24 14:21\\n推 simon89889  : 感覺出手空間比t-mac大一些 不知道是他跳得高 11/24 14:39\\n推 simon89889  : 還是防守沒針對 t-mac持球時都是兩個人貼上去 11/24 14:41\\n→ simon89889  : 不過前兩確實誇張到 11/24 14:42\\n→ jerrychlin  : 今天老喬有在現場嗎？ 11/24 14:47\\n推 SwissMiniGun: 話說LaVine也才2000萬 黃蜂如果簽到他該多爽 11/24 14:48\\n噓 signm       : 公牛不會讓出來吧，冰各毛 11/24 15:02\\n→ SwissMiniGun: 肯定不會啊XD 11/24 15:05\\n→ appole      : 各種空檔 11/24 15:16\\n→ youa        : 喬丹絕殺的是另一隊黃蜂吧？ 11/24 15:33\\n推 sonas20     : 同一隻黃蜂吧，有繼承歷史不是嗎 11/24 15:44\\n噓 ACEFUCK     : 這球沒進保證一堆鍵盤教練出來噴出手選擇 11/24 15:57\\n推 SwissMiniGun: 同一隻 夏洛特黃蜂有繼承1988-2002黃蜂 11/24 16:12\\n→ SwissMiniGun: CP3則是紐奧良黃蜂=現在的水鳥 11/24 16:13\\n推 s87995109   : 沒進一定一堆說怎不拿兩分 11/24 16:22\\n→ s87995109   : 這隻是公年重建基石怎可能讓 11/24 16:23\\n推 KobeNi      : 有一球是不小心踩到線的long two，沒踩就更史上留名 11/24 16:29\\n→ KobeNi      : 了 11/24 16:29\\n推 csyhri      : 狂 11/24 17:19\\n推 likewen11033: 上次絕殺黃蜂的老喬現在在黃蜂當老闆看黃蜂被老東家 11/24 18:16\\n→ likewen11033: 的人絕殺，蠻五味雜陳的吧 11/24 18:16\\n噓 king04569   : 第三節不知道再冰三小 白癡教練 11/24 18:33\\n推 km10635237  : 帥渣了 11/24 18:35\\n推 iovebaby520 : 如果最後沒進應該變戰犯？ 11/24 19:54\\n推 ckshchen    : 戰犯什麼?本來輸那麼多，他追近的 11/24 20:01\\n推 Loire       : 最後一球 跟 miller  time 超像的 11/24 20:10\\n推 bye2007     : 這球真的太屌 11/24 20:50\\n→ bye2007     : 公牛上一次絕殺 已經是1997年啦.... 11/24 20:51\\n推 Scubadive   : 今天跟神一樣... 11/25 00:13\\n'}]\n"
          ],
          "name": "stdout"
        }
      ]
    },
    {
      "cell_type": "code",
      "metadata": {
        "id": "-vTGsM4I_wQi",
        "colab_type": "code",
        "outputId": "db017887-6783-44d4-d41c-6c65563bb1ad",
        "colab": {
          "base_uri": "https://localhost:8080/",
          "height": 648
        }
      },
      "source": [
        "\n",
        "print(data)\n"
      ],
      "execution_count": 0,
      "outputs": [
        {
          "output_type": "stream",
          "text": [
            "https://www.ptt.cc//bbs/NBA/M.1574573669.A.72E.html\n",
            "teramars (tomorrow never knows)\n",
            "[新聞] 拉文49分13顆外線創公牛隊史新高　0.8秒\n",
            "https://www.ptt.cc//bbs/NBA/M.1574573827.A.48A.html\n",
            "phoenix286 (糰子大家族)\n",
            "[新聞] 楊恩大三元無用 暴龍成功擒下老鷹收3連勝\n",
            "https://www.ptt.cc//bbs/NBA/M.1574573830.A.4F4.html\n",
            "humbler (獸人H)\n",
            "[討論] 目前為止，哪隊換新教練最有感？\n",
            "https://www.ptt.cc//bbs/NBA/M.1574574114.A.092.html\n",
            "Wojnarowski (@wojespn)\n",
            "[花邊] LBJ談全場0罰球：習慣了，過去幾場胳膊上\n",
            "https://www.ptt.cc//bbs/NBA/M.1574575134.A.C8E.html\n"
          ],
          "name": "stdout"
        },
        {
          "output_type": "error",
          "ename": "KeyboardInterrupt",
          "evalue": "ignored",
          "traceback": [
            "\u001b[0;31m---------------------------------------------------------------------------\u001b[0m",
            "\u001b[0;31mTypeError\u001b[0m                                 Traceback (most recent call last)",
            "\u001b[0;32m/usr/local/lib/python3.6/dist-packages/urllib3/connectionpool.py\u001b[0m in \u001b[0;36m_make_request\u001b[0;34m(self, conn, method, url, timeout, chunked, **httplib_request_kw)\u001b[0m\n\u001b[1;32m    376\u001b[0m             \u001b[0;32mtry\u001b[0m\u001b[0;34m:\u001b[0m  \u001b[0;31m# Python 2.7, use buffering of HTTP responses\u001b[0m\u001b[0;34m\u001b[0m\u001b[0;34m\u001b[0m\u001b[0m\n\u001b[0;32m--> 377\u001b[0;31m                 \u001b[0mhttplib_response\u001b[0m \u001b[0;34m=\u001b[0m \u001b[0mconn\u001b[0m\u001b[0;34m.\u001b[0m\u001b[0mgetresponse\u001b[0m\u001b[0;34m(\u001b[0m\u001b[0mbuffering\u001b[0m\u001b[0;34m=\u001b[0m\u001b[0;32mTrue\u001b[0m\u001b[0;34m)\u001b[0m\u001b[0;34m\u001b[0m\u001b[0;34m\u001b[0m\u001b[0m\n\u001b[0m\u001b[1;32m    378\u001b[0m             \u001b[0;32mexcept\u001b[0m \u001b[0mTypeError\u001b[0m\u001b[0;34m:\u001b[0m  \u001b[0;31m# Python 3\u001b[0m\u001b[0;34m\u001b[0m\u001b[0;34m\u001b[0m\u001b[0m\n",
            "\u001b[0;31mTypeError\u001b[0m: getresponse() got an unexpected keyword argument 'buffering'",
            "\nDuring handling of the above exception, another exception occurred:\n",
            "\u001b[0;31mKeyboardInterrupt\u001b[0m                         Traceback (most recent call last)",
            "\u001b[0;32m<ipython-input-7-1cf9c5b21b82>\u001b[0m in \u001b[0;36m<module>\u001b[0;34m()\u001b[0m\n\u001b[1;32m      2\u001b[0m \u001b[0marticle\u001b[0m \u001b[0;34m=\u001b[0m \u001b[0;34m{\u001b[0m\u001b[0;34m}\u001b[0m\u001b[0;34m\u001b[0m\u001b[0;34m\u001b[0m\u001b[0m\n\u001b[1;32m      3\u001b[0m \u001b[0;32mfor\u001b[0m \u001b[0mj\u001b[0m \u001b[0;32min\u001b[0m \u001b[0mrange\u001b[0m\u001b[0;34m(\u001b[0m\u001b[0;36m0\u001b[0m\u001b[0;34m,\u001b[0m\u001b[0mlen\u001b[0m\u001b[0;34m(\u001b[0m\u001b[0mget_article_web\u001b[0m\u001b[0;34m(\u001b[0m\u001b[0;34m)\u001b[0m\u001b[0;34m)\u001b[0m\u001b[0;34m)\u001b[0m\u001b[0;34m:\u001b[0m\u001b[0;34m\u001b[0m\u001b[0;34m\u001b[0m\u001b[0m\n\u001b[0;32m----> 4\u001b[0;31m     \u001b[0marticle\u001b[0m\u001b[0;34m[\u001b[0m\u001b[0;34m'網址'\u001b[0m\u001b[0;34m]\u001b[0m \u001b[0;34m=\u001b[0m \u001b[0mget_article_web\u001b[0m\u001b[0;34m(\u001b[0m\u001b[0;34m)\u001b[0m\u001b[0;34m[\u001b[0m\u001b[0mj\u001b[0m\u001b[0;34m]\u001b[0m\u001b[0;34m\u001b[0m\u001b[0;34m\u001b[0m\u001b[0m\n\u001b[0m\u001b[1;32m      5\u001b[0m     \u001b[0mprint\u001b[0m\u001b[0;34m(\u001b[0m\u001b[0marticle\u001b[0m\u001b[0;34m[\u001b[0m\u001b[0;34m'網址'\u001b[0m\u001b[0;34m]\u001b[0m\u001b[0;34m)\u001b[0m\u001b[0;34m\u001b[0m\u001b[0;34m\u001b[0m\u001b[0m\n\u001b[1;32m      6\u001b[0m     \u001b[0;32mtry\u001b[0m\u001b[0;34m:\u001b[0m\u001b[0;34m\u001b[0m\u001b[0;34m\u001b[0m\u001b[0m\n",
            "\u001b[0;32m<ipython-input-4-de8aa036a0fa>\u001b[0m in \u001b[0;36mget_article_web\u001b[0;34m()\u001b[0m\n\u001b[1;32m     31\u001b[0m     \u001b[0mweb\u001b[0m \u001b[0;34m=\u001b[0m \u001b[0;34m[\u001b[0m\u001b[0;34m]\u001b[0m\u001b[0;34m\u001b[0m\u001b[0;34m\u001b[0m\u001b[0m\n\u001b[1;32m     32\u001b[0m     \u001b[0mpush\u001b[0m \u001b[0;34m=\u001b[0m \u001b[0;34m[\u001b[0m\u001b[0;34m]\u001b[0m\u001b[0;34m\u001b[0m\u001b[0;34m\u001b[0m\u001b[0m\n\u001b[0;32m---> 33\u001b[0;31m     \u001b[0;32mfor\u001b[0m \u001b[0mi\u001b[0m \u001b[0;32min\u001b[0m \u001b[0mrange\u001b[0m\u001b[0;34m(\u001b[0m\u001b[0;36m0\u001b[0m\u001b[0;34m,\u001b[0m\u001b[0mlen\u001b[0m\u001b[0;34m(\u001b[0m\u001b[0mget_pages\u001b[0m\u001b[0;34m(\u001b[0m\u001b[0;34m)\u001b[0m\u001b[0;34m)\u001b[0m\u001b[0;34m)\u001b[0m\u001b[0;34m:\u001b[0m\u001b[0;34m\u001b[0m\u001b[0;34m\u001b[0m\u001b[0m\n\u001b[0m\u001b[1;32m     34\u001b[0m         \u001b[0marticle_web\u001b[0m \u001b[0;34m=\u001b[0m \u001b[0mget_soup\u001b[0m\u001b[0;34m(\u001b[0m\u001b[0mget_pages\u001b[0m\u001b[0;34m(\u001b[0m\u001b[0;34m)\u001b[0m\u001b[0;34m[\u001b[0m\u001b[0mi\u001b[0m\u001b[0;34m]\u001b[0m\u001b[0;34m)\u001b[0m\u001b[0;34m.\u001b[0m\u001b[0mfind_all\u001b[0m\u001b[0;34m(\u001b[0m\u001b[0;34m'div'\u001b[0m\u001b[0;34m,\u001b[0m \u001b[0mclass_\u001b[0m\u001b[0;34m=\u001b[0m\u001b[0;34m'title'\u001b[0m\u001b[0;34m)\u001b[0m\u001b[0;34m\u001b[0m\u001b[0;34m\u001b[0m\u001b[0m\n\u001b[1;32m     35\u001b[0m     \u001b[0;31m#print(article_web)\u001b[0m\u001b[0;34m\u001b[0m\u001b[0;34m\u001b[0m\u001b[0;34m\u001b[0m\u001b[0m\n",
            "\u001b[0;32m<ipython-input-4-de8aa036a0fa>\u001b[0m in \u001b[0;36mget_pages\u001b[0;34m()\u001b[0m\n\u001b[1;32m     18\u001b[0m     \u001b[0;32mwhile\u001b[0m \u001b[0;32mTrue\u001b[0m\u001b[0;34m:\u001b[0m\u001b[0;34m\u001b[0m\u001b[0;34m\u001b[0m\u001b[0m\n\u001b[1;32m     19\u001b[0m         \u001b[0murl\u001b[0m \u001b[0;34m=\u001b[0m \u001b[0;34m'https://www.ptt.cc/bbs/NBA/index'\u001b[0m\u001b[0;34m+\u001b[0m\u001b[0mstr\u001b[0m\u001b[0;34m(\u001b[0m\u001b[0mn\u001b[0m\u001b[0;34m)\u001b[0m\u001b[0;34m+\u001b[0m\u001b[0;34m'.html'\u001b[0m\u001b[0;34m\u001b[0m\u001b[0;34m\u001b[0m\u001b[0m\n\u001b[0;32m---> 20\u001b[0;31m         \u001b[0mlessons\u001b[0m \u001b[0;34m=\u001b[0m \u001b[0mget_soup\u001b[0m\u001b[0;34m(\u001b[0m\u001b[0murl\u001b[0m\u001b[0;34m)\u001b[0m\u001b[0;34m.\u001b[0m\u001b[0mselect\u001b[0m\u001b[0;34m(\u001b[0m\u001b[0;34m'a'\u001b[0m \u001b[0;34m)\u001b[0m\u001b[0;34m\u001b[0m\u001b[0;34m\u001b[0m\u001b[0m\n\u001b[0m\u001b[1;32m     21\u001b[0m         \u001b[0;32mif\u001b[0m \u001b[0mlessons\u001b[0m \u001b[0;34m==\u001b[0m \u001b[0;34m[\u001b[0m\u001b[0;34m]\u001b[0m\u001b[0;34m:\u001b[0m\u001b[0;34m\u001b[0m\u001b[0;34m\u001b[0m\u001b[0m\n\u001b[1;32m     22\u001b[0m             \u001b[0;32mbreak\u001b[0m\u001b[0;34m\u001b[0m\u001b[0;34m\u001b[0m\u001b[0m\n",
            "\u001b[0;32m<ipython-input-4-de8aa036a0fa>\u001b[0m in \u001b[0;36mget_soup\u001b[0;34m(item)\u001b[0m\n\u001b[1;32m      9\u001b[0m \u001b[0;32mdef\u001b[0m \u001b[0mget_soup\u001b[0m\u001b[0;34m(\u001b[0m\u001b[0mitem\u001b[0m\u001b[0;34m)\u001b[0m\u001b[0;34m:\u001b[0m\u001b[0;34m\u001b[0m\u001b[0;34m\u001b[0m\u001b[0m\n\u001b[1;32m     10\u001b[0m     \u001b[0mheaders\u001b[0m \u001b[0;34m=\u001b[0m \u001b[0;34m{\u001b[0m\u001b[0;34m'user-agent'\u001b[0m\u001b[0;34m:\u001b[0m \u001b[0;34m'Mozilla/5.0 (Windows NT 6.1) AppleWebKit/537.36 (KHTML, like Gecko) Chrome/52.0.2743.116 Safari/537.36'\u001b[0m\u001b[0;34m}\u001b[0m\u001b[0;34m\u001b[0m\u001b[0;34m\u001b[0m\u001b[0m\n\u001b[0;32m---> 11\u001b[0;31m     \u001b[0mres\u001b[0m \u001b[0;34m=\u001b[0m \u001b[0mrequests\u001b[0m\u001b[0;34m.\u001b[0m\u001b[0mget\u001b[0m\u001b[0;34m(\u001b[0m\u001b[0mitem\u001b[0m\u001b[0;34m,\u001b[0m \u001b[0mheaders\u001b[0m\u001b[0;34m=\u001b[0m\u001b[0mheaders\u001b[0m\u001b[0;34m,\u001b[0m \u001b[0mcookies\u001b[0m\u001b[0;34m=\u001b[0m\u001b[0;34m{\u001b[0m\u001b[0;34m'over18'\u001b[0m\u001b[0;34m:\u001b[0m \u001b[0;34m'1'\u001b[0m\u001b[0;34m}\u001b[0m\u001b[0;34m)\u001b[0m\u001b[0;34m.\u001b[0m\u001b[0mtext\u001b[0m\u001b[0;34m\u001b[0m\u001b[0;34m\u001b[0m\u001b[0m\n\u001b[0m\u001b[1;32m     12\u001b[0m     \u001b[0msoup\u001b[0m \u001b[0;34m=\u001b[0m \u001b[0mbs\u001b[0m\u001b[0;34m(\u001b[0m\u001b[0mres\u001b[0m\u001b[0;34m,\u001b[0m \u001b[0;34m'lxml'\u001b[0m\u001b[0;34m)\u001b[0m\u001b[0;34m\u001b[0m\u001b[0;34m\u001b[0m\u001b[0m\n\u001b[1;32m     13\u001b[0m     \u001b[0;32mreturn\u001b[0m \u001b[0msoup\u001b[0m\u001b[0;34m\u001b[0m\u001b[0;34m\u001b[0m\u001b[0m\n",
            "\u001b[0;32m/usr/local/lib/python3.6/dist-packages/requests/api.py\u001b[0m in \u001b[0;36mget\u001b[0;34m(url, params, **kwargs)\u001b[0m\n\u001b[1;32m     73\u001b[0m \u001b[0;34m\u001b[0m\u001b[0m\n\u001b[1;32m     74\u001b[0m     \u001b[0mkwargs\u001b[0m\u001b[0;34m.\u001b[0m\u001b[0msetdefault\u001b[0m\u001b[0;34m(\u001b[0m\u001b[0;34m'allow_redirects'\u001b[0m\u001b[0;34m,\u001b[0m \u001b[0;32mTrue\u001b[0m\u001b[0;34m)\u001b[0m\u001b[0;34m\u001b[0m\u001b[0;34m\u001b[0m\u001b[0m\n\u001b[0;32m---> 75\u001b[0;31m     \u001b[0;32mreturn\u001b[0m \u001b[0mrequest\u001b[0m\u001b[0;34m(\u001b[0m\u001b[0;34m'get'\u001b[0m\u001b[0;34m,\u001b[0m \u001b[0murl\u001b[0m\u001b[0;34m,\u001b[0m \u001b[0mparams\u001b[0m\u001b[0;34m=\u001b[0m\u001b[0mparams\u001b[0m\u001b[0;34m,\u001b[0m \u001b[0;34m**\u001b[0m\u001b[0mkwargs\u001b[0m\u001b[0;34m)\u001b[0m\u001b[0;34m\u001b[0m\u001b[0;34m\u001b[0m\u001b[0m\n\u001b[0m\u001b[1;32m     76\u001b[0m \u001b[0;34m\u001b[0m\u001b[0m\n\u001b[1;32m     77\u001b[0m \u001b[0;34m\u001b[0m\u001b[0m\n",
            "\u001b[0;32m/usr/local/lib/python3.6/dist-packages/requests/api.py\u001b[0m in \u001b[0;36mrequest\u001b[0;34m(method, url, **kwargs)\u001b[0m\n\u001b[1;32m     58\u001b[0m     \u001b[0;31m# cases, and look like a memory leak in others.\u001b[0m\u001b[0;34m\u001b[0m\u001b[0;34m\u001b[0m\u001b[0;34m\u001b[0m\u001b[0m\n\u001b[1;32m     59\u001b[0m     \u001b[0;32mwith\u001b[0m \u001b[0msessions\u001b[0m\u001b[0;34m.\u001b[0m\u001b[0mSession\u001b[0m\u001b[0;34m(\u001b[0m\u001b[0;34m)\u001b[0m \u001b[0;32mas\u001b[0m \u001b[0msession\u001b[0m\u001b[0;34m:\u001b[0m\u001b[0;34m\u001b[0m\u001b[0;34m\u001b[0m\u001b[0m\n\u001b[0;32m---> 60\u001b[0;31m         \u001b[0;32mreturn\u001b[0m \u001b[0msession\u001b[0m\u001b[0;34m.\u001b[0m\u001b[0mrequest\u001b[0m\u001b[0;34m(\u001b[0m\u001b[0mmethod\u001b[0m\u001b[0;34m=\u001b[0m\u001b[0mmethod\u001b[0m\u001b[0;34m,\u001b[0m \u001b[0murl\u001b[0m\u001b[0;34m=\u001b[0m\u001b[0murl\u001b[0m\u001b[0;34m,\u001b[0m \u001b[0;34m**\u001b[0m\u001b[0mkwargs\u001b[0m\u001b[0;34m)\u001b[0m\u001b[0;34m\u001b[0m\u001b[0;34m\u001b[0m\u001b[0m\n\u001b[0m\u001b[1;32m     61\u001b[0m \u001b[0;34m\u001b[0m\u001b[0m\n\u001b[1;32m     62\u001b[0m \u001b[0;34m\u001b[0m\u001b[0m\n",
            "\u001b[0;32m/usr/local/lib/python3.6/dist-packages/requests/sessions.py\u001b[0m in \u001b[0;36mrequest\u001b[0;34m(self, method, url, params, data, headers, cookies, files, auth, timeout, allow_redirects, proxies, hooks, stream, verify, cert, json)\u001b[0m\n\u001b[1;32m    531\u001b[0m         }\n\u001b[1;32m    532\u001b[0m         \u001b[0msend_kwargs\u001b[0m\u001b[0;34m.\u001b[0m\u001b[0mupdate\u001b[0m\u001b[0;34m(\u001b[0m\u001b[0msettings\u001b[0m\u001b[0;34m)\u001b[0m\u001b[0;34m\u001b[0m\u001b[0;34m\u001b[0m\u001b[0m\n\u001b[0;32m--> 533\u001b[0;31m         \u001b[0mresp\u001b[0m \u001b[0;34m=\u001b[0m \u001b[0mself\u001b[0m\u001b[0;34m.\u001b[0m\u001b[0msend\u001b[0m\u001b[0;34m(\u001b[0m\u001b[0mprep\u001b[0m\u001b[0;34m,\u001b[0m \u001b[0;34m**\u001b[0m\u001b[0msend_kwargs\u001b[0m\u001b[0;34m)\u001b[0m\u001b[0;34m\u001b[0m\u001b[0;34m\u001b[0m\u001b[0m\n\u001b[0m\u001b[1;32m    534\u001b[0m \u001b[0;34m\u001b[0m\u001b[0m\n\u001b[1;32m    535\u001b[0m         \u001b[0;32mreturn\u001b[0m \u001b[0mresp\u001b[0m\u001b[0;34m\u001b[0m\u001b[0;34m\u001b[0m\u001b[0m\n",
            "\u001b[0;32m/usr/local/lib/python3.6/dist-packages/requests/sessions.py\u001b[0m in \u001b[0;36msend\u001b[0;34m(self, request, **kwargs)\u001b[0m\n\u001b[1;32m    644\u001b[0m \u001b[0;34m\u001b[0m\u001b[0m\n\u001b[1;32m    645\u001b[0m         \u001b[0;31m# Send the request\u001b[0m\u001b[0;34m\u001b[0m\u001b[0;34m\u001b[0m\u001b[0;34m\u001b[0m\u001b[0m\n\u001b[0;32m--> 646\u001b[0;31m         \u001b[0mr\u001b[0m \u001b[0;34m=\u001b[0m \u001b[0madapter\u001b[0m\u001b[0;34m.\u001b[0m\u001b[0msend\u001b[0m\u001b[0;34m(\u001b[0m\u001b[0mrequest\u001b[0m\u001b[0;34m,\u001b[0m \u001b[0;34m**\u001b[0m\u001b[0mkwargs\u001b[0m\u001b[0;34m)\u001b[0m\u001b[0;34m\u001b[0m\u001b[0;34m\u001b[0m\u001b[0m\n\u001b[0m\u001b[1;32m    647\u001b[0m \u001b[0;34m\u001b[0m\u001b[0m\n\u001b[1;32m    648\u001b[0m         \u001b[0;31m# Total elapsed time of the request (approximately)\u001b[0m\u001b[0;34m\u001b[0m\u001b[0;34m\u001b[0m\u001b[0;34m\u001b[0m\u001b[0m\n",
            "\u001b[0;32m/usr/local/lib/python3.6/dist-packages/requests/adapters.py\u001b[0m in \u001b[0;36msend\u001b[0;34m(self, request, stream, timeout, verify, cert, proxies)\u001b[0m\n\u001b[1;32m    447\u001b[0m                     \u001b[0mdecode_content\u001b[0m\u001b[0;34m=\u001b[0m\u001b[0;32mFalse\u001b[0m\u001b[0;34m,\u001b[0m\u001b[0;34m\u001b[0m\u001b[0;34m\u001b[0m\u001b[0m\n\u001b[1;32m    448\u001b[0m                     \u001b[0mretries\u001b[0m\u001b[0;34m=\u001b[0m\u001b[0mself\u001b[0m\u001b[0;34m.\u001b[0m\u001b[0mmax_retries\u001b[0m\u001b[0;34m,\u001b[0m\u001b[0;34m\u001b[0m\u001b[0;34m\u001b[0m\u001b[0m\n\u001b[0;32m--> 449\u001b[0;31m                     \u001b[0mtimeout\u001b[0m\u001b[0;34m=\u001b[0m\u001b[0mtimeout\u001b[0m\u001b[0;34m\u001b[0m\u001b[0;34m\u001b[0m\u001b[0m\n\u001b[0m\u001b[1;32m    450\u001b[0m                 )\n\u001b[1;32m    451\u001b[0m \u001b[0;34m\u001b[0m\u001b[0m\n",
            "\u001b[0;32m/usr/local/lib/python3.6/dist-packages/urllib3/connectionpool.py\u001b[0m in \u001b[0;36murlopen\u001b[0;34m(self, method, url, body, headers, retries, redirect, assert_same_host, timeout, pool_timeout, release_conn, chunked, body_pos, **response_kw)\u001b[0m\n\u001b[1;32m    598\u001b[0m                                                   \u001b[0mtimeout\u001b[0m\u001b[0;34m=\u001b[0m\u001b[0mtimeout_obj\u001b[0m\u001b[0;34m,\u001b[0m\u001b[0;34m\u001b[0m\u001b[0;34m\u001b[0m\u001b[0m\n\u001b[1;32m    599\u001b[0m                                                   \u001b[0mbody\u001b[0m\u001b[0;34m=\u001b[0m\u001b[0mbody\u001b[0m\u001b[0;34m,\u001b[0m \u001b[0mheaders\u001b[0m\u001b[0;34m=\u001b[0m\u001b[0mheaders\u001b[0m\u001b[0;34m,\u001b[0m\u001b[0;34m\u001b[0m\u001b[0;34m\u001b[0m\u001b[0m\n\u001b[0;32m--> 600\u001b[0;31m                                                   chunked=chunked)\n\u001b[0m\u001b[1;32m    601\u001b[0m \u001b[0;34m\u001b[0m\u001b[0m\n\u001b[1;32m    602\u001b[0m             \u001b[0;31m# If we're going to release the connection in ``finally:``, then\u001b[0m\u001b[0;34m\u001b[0m\u001b[0;34m\u001b[0m\u001b[0;34m\u001b[0m\u001b[0m\n",
            "\u001b[0;32m/usr/local/lib/python3.6/dist-packages/urllib3/connectionpool.py\u001b[0m in \u001b[0;36m_make_request\u001b[0;34m(self, conn, method, url, timeout, chunked, **httplib_request_kw)\u001b[0m\n\u001b[1;32m    378\u001b[0m             \u001b[0;32mexcept\u001b[0m \u001b[0mTypeError\u001b[0m\u001b[0;34m:\u001b[0m  \u001b[0;31m# Python 3\u001b[0m\u001b[0;34m\u001b[0m\u001b[0;34m\u001b[0m\u001b[0m\n\u001b[1;32m    379\u001b[0m                 \u001b[0;32mtry\u001b[0m\u001b[0;34m:\u001b[0m\u001b[0;34m\u001b[0m\u001b[0;34m\u001b[0m\u001b[0m\n\u001b[0;32m--> 380\u001b[0;31m                     \u001b[0mhttplib_response\u001b[0m \u001b[0;34m=\u001b[0m \u001b[0mconn\u001b[0m\u001b[0;34m.\u001b[0m\u001b[0mgetresponse\u001b[0m\u001b[0;34m(\u001b[0m\u001b[0;34m)\u001b[0m\u001b[0;34m\u001b[0m\u001b[0;34m\u001b[0m\u001b[0m\n\u001b[0m\u001b[1;32m    381\u001b[0m                 \u001b[0;32mexcept\u001b[0m \u001b[0mException\u001b[0m \u001b[0;32mas\u001b[0m \u001b[0me\u001b[0m\u001b[0;34m:\u001b[0m\u001b[0;34m\u001b[0m\u001b[0;34m\u001b[0m\u001b[0m\n\u001b[1;32m    382\u001b[0m                     \u001b[0;31m# Remove the TypeError from the exception chain in Python 3;\u001b[0m\u001b[0;34m\u001b[0m\u001b[0;34m\u001b[0m\u001b[0;34m\u001b[0m\u001b[0m\n",
            "\u001b[0;32m/usr/lib/python3.6/http/client.py\u001b[0m in \u001b[0;36mgetresponse\u001b[0;34m(self)\u001b[0m\n\u001b[1;32m   1344\u001b[0m         \u001b[0;32mtry\u001b[0m\u001b[0;34m:\u001b[0m\u001b[0;34m\u001b[0m\u001b[0;34m\u001b[0m\u001b[0m\n\u001b[1;32m   1345\u001b[0m             \u001b[0;32mtry\u001b[0m\u001b[0;34m:\u001b[0m\u001b[0;34m\u001b[0m\u001b[0;34m\u001b[0m\u001b[0m\n\u001b[0;32m-> 1346\u001b[0;31m                 \u001b[0mresponse\u001b[0m\u001b[0;34m.\u001b[0m\u001b[0mbegin\u001b[0m\u001b[0;34m(\u001b[0m\u001b[0;34m)\u001b[0m\u001b[0;34m\u001b[0m\u001b[0;34m\u001b[0m\u001b[0m\n\u001b[0m\u001b[1;32m   1347\u001b[0m             \u001b[0;32mexcept\u001b[0m \u001b[0mConnectionError\u001b[0m\u001b[0;34m:\u001b[0m\u001b[0;34m\u001b[0m\u001b[0;34m\u001b[0m\u001b[0m\n\u001b[1;32m   1348\u001b[0m                 \u001b[0mself\u001b[0m\u001b[0;34m.\u001b[0m\u001b[0mclose\u001b[0m\u001b[0;34m(\u001b[0m\u001b[0;34m)\u001b[0m\u001b[0;34m\u001b[0m\u001b[0;34m\u001b[0m\u001b[0m\n",
            "\u001b[0;32m/usr/lib/python3.6/http/client.py\u001b[0m in \u001b[0;36mbegin\u001b[0;34m(self)\u001b[0m\n\u001b[1;32m    305\u001b[0m         \u001b[0;31m# read until we get a non-100 response\u001b[0m\u001b[0;34m\u001b[0m\u001b[0;34m\u001b[0m\u001b[0;34m\u001b[0m\u001b[0m\n\u001b[1;32m    306\u001b[0m         \u001b[0;32mwhile\u001b[0m \u001b[0;32mTrue\u001b[0m\u001b[0;34m:\u001b[0m\u001b[0;34m\u001b[0m\u001b[0;34m\u001b[0m\u001b[0m\n\u001b[0;32m--> 307\u001b[0;31m             \u001b[0mversion\u001b[0m\u001b[0;34m,\u001b[0m \u001b[0mstatus\u001b[0m\u001b[0;34m,\u001b[0m \u001b[0mreason\u001b[0m \u001b[0;34m=\u001b[0m \u001b[0mself\u001b[0m\u001b[0;34m.\u001b[0m\u001b[0m_read_status\u001b[0m\u001b[0;34m(\u001b[0m\u001b[0;34m)\u001b[0m\u001b[0;34m\u001b[0m\u001b[0;34m\u001b[0m\u001b[0m\n\u001b[0m\u001b[1;32m    308\u001b[0m             \u001b[0;32mif\u001b[0m \u001b[0mstatus\u001b[0m \u001b[0;34m!=\u001b[0m \u001b[0mCONTINUE\u001b[0m\u001b[0;34m:\u001b[0m\u001b[0;34m\u001b[0m\u001b[0;34m\u001b[0m\u001b[0m\n\u001b[1;32m    309\u001b[0m                 \u001b[0;32mbreak\u001b[0m\u001b[0;34m\u001b[0m\u001b[0;34m\u001b[0m\u001b[0m\n",
            "\u001b[0;32m/usr/lib/python3.6/http/client.py\u001b[0m in \u001b[0;36m_read_status\u001b[0;34m(self)\u001b[0m\n\u001b[1;32m    266\u001b[0m \u001b[0;34m\u001b[0m\u001b[0m\n\u001b[1;32m    267\u001b[0m     \u001b[0;32mdef\u001b[0m \u001b[0m_read_status\u001b[0m\u001b[0;34m(\u001b[0m\u001b[0mself\u001b[0m\u001b[0;34m)\u001b[0m\u001b[0;34m:\u001b[0m\u001b[0;34m\u001b[0m\u001b[0;34m\u001b[0m\u001b[0m\n\u001b[0;32m--> 268\u001b[0;31m         \u001b[0mline\u001b[0m \u001b[0;34m=\u001b[0m \u001b[0mstr\u001b[0m\u001b[0;34m(\u001b[0m\u001b[0mself\u001b[0m\u001b[0;34m.\u001b[0m\u001b[0mfp\u001b[0m\u001b[0;34m.\u001b[0m\u001b[0mreadline\u001b[0m\u001b[0;34m(\u001b[0m\u001b[0m_MAXLINE\u001b[0m \u001b[0;34m+\u001b[0m \u001b[0;36m1\u001b[0m\u001b[0;34m)\u001b[0m\u001b[0;34m,\u001b[0m \u001b[0;34m\"iso-8859-1\"\u001b[0m\u001b[0;34m)\u001b[0m\u001b[0;34m\u001b[0m\u001b[0;34m\u001b[0m\u001b[0m\n\u001b[0m\u001b[1;32m    269\u001b[0m         \u001b[0;32mif\u001b[0m \u001b[0mlen\u001b[0m\u001b[0;34m(\u001b[0m\u001b[0mline\u001b[0m\u001b[0;34m)\u001b[0m \u001b[0;34m>\u001b[0m \u001b[0m_MAXLINE\u001b[0m\u001b[0;34m:\u001b[0m\u001b[0;34m\u001b[0m\u001b[0;34m\u001b[0m\u001b[0m\n\u001b[1;32m    270\u001b[0m             \u001b[0;32mraise\u001b[0m \u001b[0mLineTooLong\u001b[0m\u001b[0;34m(\u001b[0m\u001b[0;34m\"status line\"\u001b[0m\u001b[0;34m)\u001b[0m\u001b[0;34m\u001b[0m\u001b[0;34m\u001b[0m\u001b[0m\n",
            "\u001b[0;32m/usr/lib/python3.6/socket.py\u001b[0m in \u001b[0;36mreadinto\u001b[0;34m(self, b)\u001b[0m\n\u001b[1;32m    584\u001b[0m         \u001b[0;32mwhile\u001b[0m \u001b[0;32mTrue\u001b[0m\u001b[0;34m:\u001b[0m\u001b[0;34m\u001b[0m\u001b[0;34m\u001b[0m\u001b[0m\n\u001b[1;32m    585\u001b[0m             \u001b[0;32mtry\u001b[0m\u001b[0;34m:\u001b[0m\u001b[0;34m\u001b[0m\u001b[0;34m\u001b[0m\u001b[0m\n\u001b[0;32m--> 586\u001b[0;31m                 \u001b[0;32mreturn\u001b[0m \u001b[0mself\u001b[0m\u001b[0;34m.\u001b[0m\u001b[0m_sock\u001b[0m\u001b[0;34m.\u001b[0m\u001b[0mrecv_into\u001b[0m\u001b[0;34m(\u001b[0m\u001b[0mb\u001b[0m\u001b[0;34m)\u001b[0m\u001b[0;34m\u001b[0m\u001b[0;34m\u001b[0m\u001b[0m\n\u001b[0m\u001b[1;32m    587\u001b[0m             \u001b[0;32mexcept\u001b[0m \u001b[0mtimeout\u001b[0m\u001b[0;34m:\u001b[0m\u001b[0;34m\u001b[0m\u001b[0;34m\u001b[0m\u001b[0m\n\u001b[1;32m    588\u001b[0m                 \u001b[0mself\u001b[0m\u001b[0;34m.\u001b[0m\u001b[0m_timeout_occurred\u001b[0m \u001b[0;34m=\u001b[0m \u001b[0;32mTrue\u001b[0m\u001b[0;34m\u001b[0m\u001b[0;34m\u001b[0m\u001b[0m\n",
            "\u001b[0;32m/usr/lib/python3.6/ssl.py\u001b[0m in \u001b[0;36mrecv_into\u001b[0;34m(self, buffer, nbytes, flags)\u001b[0m\n\u001b[1;32m   1010\u001b[0m                   \u001b[0;34m\"non-zero flags not allowed in calls to recv_into() on %s\"\u001b[0m \u001b[0;34m%\u001b[0m\u001b[0;34m\u001b[0m\u001b[0;34m\u001b[0m\u001b[0m\n\u001b[1;32m   1011\u001b[0m                   self.__class__)\n\u001b[0;32m-> 1012\u001b[0;31m             \u001b[0;32mreturn\u001b[0m \u001b[0mself\u001b[0m\u001b[0;34m.\u001b[0m\u001b[0mread\u001b[0m\u001b[0;34m(\u001b[0m\u001b[0mnbytes\u001b[0m\u001b[0;34m,\u001b[0m \u001b[0mbuffer\u001b[0m\u001b[0;34m)\u001b[0m\u001b[0;34m\u001b[0m\u001b[0;34m\u001b[0m\u001b[0m\n\u001b[0m\u001b[1;32m   1013\u001b[0m         \u001b[0;32melse\u001b[0m\u001b[0;34m:\u001b[0m\u001b[0;34m\u001b[0m\u001b[0;34m\u001b[0m\u001b[0m\n\u001b[1;32m   1014\u001b[0m             \u001b[0;32mreturn\u001b[0m \u001b[0msocket\u001b[0m\u001b[0;34m.\u001b[0m\u001b[0mrecv_into\u001b[0m\u001b[0;34m(\u001b[0m\u001b[0mself\u001b[0m\u001b[0;34m,\u001b[0m \u001b[0mbuffer\u001b[0m\u001b[0;34m,\u001b[0m \u001b[0mnbytes\u001b[0m\u001b[0;34m,\u001b[0m \u001b[0mflags\u001b[0m\u001b[0;34m)\u001b[0m\u001b[0;34m\u001b[0m\u001b[0;34m\u001b[0m\u001b[0m\n",
            "\u001b[0;32m/usr/lib/python3.6/ssl.py\u001b[0m in \u001b[0;36mread\u001b[0;34m(self, len, buffer)\u001b[0m\n\u001b[1;32m    872\u001b[0m             \u001b[0;32mraise\u001b[0m \u001b[0mValueError\u001b[0m\u001b[0;34m(\u001b[0m\u001b[0;34m\"Read on closed or unwrapped SSL socket.\"\u001b[0m\u001b[0;34m)\u001b[0m\u001b[0;34m\u001b[0m\u001b[0;34m\u001b[0m\u001b[0m\n\u001b[1;32m    873\u001b[0m         \u001b[0;32mtry\u001b[0m\u001b[0;34m:\u001b[0m\u001b[0;34m\u001b[0m\u001b[0;34m\u001b[0m\u001b[0m\n\u001b[0;32m--> 874\u001b[0;31m             \u001b[0;32mreturn\u001b[0m \u001b[0mself\u001b[0m\u001b[0;34m.\u001b[0m\u001b[0m_sslobj\u001b[0m\u001b[0;34m.\u001b[0m\u001b[0mread\u001b[0m\u001b[0;34m(\u001b[0m\u001b[0mlen\u001b[0m\u001b[0;34m,\u001b[0m \u001b[0mbuffer\u001b[0m\u001b[0;34m)\u001b[0m\u001b[0;34m\u001b[0m\u001b[0;34m\u001b[0m\u001b[0m\n\u001b[0m\u001b[1;32m    875\u001b[0m         \u001b[0;32mexcept\u001b[0m \u001b[0mSSLError\u001b[0m \u001b[0;32mas\u001b[0m \u001b[0mx\u001b[0m\u001b[0;34m:\u001b[0m\u001b[0;34m\u001b[0m\u001b[0;34m\u001b[0m\u001b[0m\n\u001b[1;32m    876\u001b[0m             \u001b[0;32mif\u001b[0m \u001b[0mx\u001b[0m\u001b[0;34m.\u001b[0m\u001b[0margs\u001b[0m\u001b[0;34m[\u001b[0m\u001b[0;36m0\u001b[0m\u001b[0;34m]\u001b[0m \u001b[0;34m==\u001b[0m \u001b[0mSSL_ERROR_EOF\u001b[0m \u001b[0;32mand\u001b[0m \u001b[0mself\u001b[0m\u001b[0;34m.\u001b[0m\u001b[0msuppress_ragged_eofs\u001b[0m\u001b[0;34m:\u001b[0m\u001b[0;34m\u001b[0m\u001b[0;34m\u001b[0m\u001b[0m\n",
            "\u001b[0;32m/usr/lib/python3.6/ssl.py\u001b[0m in \u001b[0;36mread\u001b[0;34m(self, len, buffer)\u001b[0m\n\u001b[1;32m    629\u001b[0m         \"\"\"\n\u001b[1;32m    630\u001b[0m         \u001b[0;32mif\u001b[0m \u001b[0mbuffer\u001b[0m \u001b[0;32mis\u001b[0m \u001b[0;32mnot\u001b[0m \u001b[0;32mNone\u001b[0m\u001b[0;34m:\u001b[0m\u001b[0;34m\u001b[0m\u001b[0;34m\u001b[0m\u001b[0m\n\u001b[0;32m--> 631\u001b[0;31m             \u001b[0mv\u001b[0m \u001b[0;34m=\u001b[0m \u001b[0mself\u001b[0m\u001b[0;34m.\u001b[0m\u001b[0m_sslobj\u001b[0m\u001b[0;34m.\u001b[0m\u001b[0mread\u001b[0m\u001b[0;34m(\u001b[0m\u001b[0mlen\u001b[0m\u001b[0;34m,\u001b[0m \u001b[0mbuffer\u001b[0m\u001b[0;34m)\u001b[0m\u001b[0;34m\u001b[0m\u001b[0;34m\u001b[0m\u001b[0m\n\u001b[0m\u001b[1;32m    632\u001b[0m         \u001b[0;32melse\u001b[0m\u001b[0;34m:\u001b[0m\u001b[0;34m\u001b[0m\u001b[0;34m\u001b[0m\u001b[0m\n\u001b[1;32m    633\u001b[0m             \u001b[0mv\u001b[0m \u001b[0;34m=\u001b[0m \u001b[0mself\u001b[0m\u001b[0;34m.\u001b[0m\u001b[0m_sslobj\u001b[0m\u001b[0;34m.\u001b[0m\u001b[0mread\u001b[0m\u001b[0;34m(\u001b[0m\u001b[0mlen\u001b[0m\u001b[0;34m)\u001b[0m\u001b[0;34m\u001b[0m\u001b[0;34m\u001b[0m\u001b[0m\n",
            "\u001b[0;31mKeyboardInterrupt\u001b[0m: "
          ]
        }
      ]
    }
  ]
}