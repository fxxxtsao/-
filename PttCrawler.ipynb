{
  "nbformat": 4,
  "nbformat_minor": 0,
  "metadata": {
    "colab": {
      "name": "PttCrawler.ipynb",
      "provenance": [],
      "collapsed_sections": [],
      "include_colab_link": true
    },
    "kernelspec": {
      "name": "python3",
      "display_name": "Python 3"
    },
    "accelerator": "TPU"
  },
  "cells": [
    {
      "cell_type": "markdown",
      "metadata": {
        "id": "view-in-github",
        "colab_type": "text"
      },
      "source": [
        "<a href=\"https://colab.research.google.com/github/fxxxtsao/Crawler/blob/master/PttCrawler.ipynb\" target=\"_parent\"><img src=\"https://colab.research.google.com/assets/colab-badge.svg\" alt=\"Open In Colab\"/></a>"
      ]
    },
    {
      "cell_type": "code",
      "metadata": {
        "id": "PmJ5odsYLWMS",
        "colab_type": "code",
        "colab": {
          "base_uri": "https://localhost:8080/",
          "height": 68
        },
        "outputId": "4401bfee-789e-4e5f-e8ca-4fd386b83d90"
      },
      "source": [
        "import requests\n",
        "from bs4 import BeautifulSoup as bs\n",
        "import json \n",
        "import re\n",
        "import datetime\n",
        "from multiprocessing import Pool\n",
        "import re\n",
        "\n",
        "#選擇看板連結\n",
        "url = 'https://www.ptt.cc/bbs/NBA/index'\n",
        "# 熱門看板列表: https://www.ptt.cc/bbs/hotboards.html\n",
        "def get_soup(item):\n",
        "    headers = {'user-agent': 'Mozilla/5.0 (Windows NT 6.1) AppleWebKit/537.36 (KHTML, like Gecko) Chrome/52.0.2743.116 Safari/537.36'}\n",
        "    res = requests.get(item, headers=headers, cookies={'over18': '1'}).text\n",
        "    soup = bs(res, 'lxml')\n",
        "    return soup\n",
        "\n",
        "def get_pages():#找出列表\n",
        "    \n",
        "    pages = []\n",
        "    n = 6509 #測試用頁面\n",
        "    while True:\n",
        "        url_name = url + str(n)+'.html'\n",
        "        lessons = get_soup(url_name).select('a' )\n",
        "        if lessons == []:\n",
        "            break\n",
        "        else :\n",
        "            pages.append(url_name)\n",
        "            n += 1\n",
        "            #print(url)\n",
        "            #time.sleep(0.5)\n",
        "    return pages\n",
        "\n",
        "def get_article_web():#找出網址並將已刪除文章加入，以便整合\n",
        "    web = []\n",
        "    get_web = get_pages()\n",
        "    for i in range(0,len(get_web)):\n",
        "        article_web = get_soup(get_web[i]).find_all('div', class_='title')\n",
        "    #print(article_web) \n",
        "    #print(get_article_web()[0])\n",
        "        for item in article_web:\n",
        "            if item.find('a')== None:\n",
        "                web.append('本文已被刪除')\n",
        "            else:\n",
        "                web.append('https://www.ptt.cc/'+item.find('a').get('href'))\n",
        "    return web\n",
        "\n",
        "#print(len(get_article_web()))\n",
        "#print(len(get_pages()))\n",
        "#print(get_pages())"
      ],
      "execution_count": 89,
      "outputs": [
        {
          "output_type": "stream",
          "text": [
            "28\n",
            "2\n",
            "['https://www.ptt.cc/bbs/NBA/index6509.html', 'https://www.ptt.cc/bbs/NBA/index6510.html']\n"
          ],
          "name": "stdout"
        }
      ]
    },
    {
      "cell_type": "markdown",
      "metadata": {
        "id": "wDARDGruQ7bn",
        "colab_type": "text"
      },
      "source": [
        "### 推文數　"
      ]
    },
    {
      "cell_type": "code",
      "metadata": {
        "id": "qPNttNgm-l-z",
        "colab_type": "code",
        "outputId": "a028ff38-b8cd-46ce-963c-c02fe541ff68",
        "colab": {
          "base_uri": "https://localhost:8080/",
          "height": 54
        }
      },
      "source": [
        "def get_article_push():\n",
        "    push = []\n",
        "    get_push = get_pages()\n",
        "    for i in range(0,len(get_push)):\n",
        "        article_push = get_soup(get_push[i]).find_all('div', class_='nrec')\n",
        "        for pu in article_push:\n",
        "            if pu.find('span') == None:\n",
        "                push.append('0')\n",
        "            else:\n",
        "                push.append(pu.find('span').text)\n",
        "                \n",
        "    return push\n",
        "\n",
        "#print(get_article_push())"
      ],
      "execution_count": 115,
      "outputs": [
        {
          "output_type": "stream",
          "text": [
            "['0', '49', '30', '37', '11', '1', '83', '54', '爆', '99', '15', '88', '28', '爆', '爆', '爆', '27', '3', '76', '19', '17', '27', '63', '49', '56', '28', '0', '0', '爆', '36', '39', '6']\n"
          ],
          "name": "stdout"
        }
      ]
    },
    {
      "cell_type": "markdown",
      "metadata": {
        "id": "E4NL4XseTaS1",
        "colab_type": "text"
      },
      "source": [
        "### 文章略標　"
      ]
    },
    {
      "cell_type": "code",
      "metadata": {
        "id": "pwEXZZgjTZJG",
        "colab_type": "code",
        "outputId": "d3ebeef3-f62c-43d4-8c96-1b2fa487e3cd",
        "colab": {
          "base_uri": "https://localhost:8080/",
          "height": 54
        }
      },
      "source": [
        "def get_article_title():\n",
        "    title = []\n",
        "    get_title = get_pages()\n",
        "    for i in range(0,len(get_title)):\n",
        "        article_title = get_soup(get_title[i]).find_all('div', class_='title')\n",
        "        for it in article_title:\n",
        "            try:\n",
        "                title.append(it.text)\n",
        "            except :continue\n",
        "        \n",
        "    return title\n",
        "#print(get_article_title())"
      ],
      "execution_count": 71,
      "outputs": [
        {
          "output_type": "stream",
          "text": [
            "['\\n[討論] 姆斯是體能球的極致嗎??\\n', '\\n[情報] NBA Standings (Nov. 26, 2019)\\n', '\\n[新聞] Drake狂喊「得分掛蛋」恩比德MVP\\u3000\\n', '\\n[情報] 湖人例行賽客場兩勝馬刺,十五年來首次\\n', '\\n\\t\\t\\t\\n\\t\\t\\t\\t(已被dragon803刪除) <meme4375>1-1 1-2違規\\n\\t\\t\\t\\n\\t\\t\\t', '\\n\\t\\t\\t\\n\\t\\t\\t\\t(已被dragon803刪除) <seisman>動網文\\n\\t\\t\\t\\n\\t\\t\\t', '\\n[花邊] NBA School Stereotypes\\n', '\\nRe: [情報] LeBron James 生涯三分進球數超越 Peja\\n', '\\n[Live] 快艇 @ 獨行俠\\n', '\\n[公告] 水桶\\n', '\\n[Live] 巫師 @ 金塊\\n', '\\n[新聞] 厄文在綠軍時孤立自己\\u3000名記：他不和隊\\n', '\\nRe: [花邊] 媒體賽前發現Derozan 將自己IG內容\\n', '\\n[花邊] Kerr稱現在的8名勇士隊員叫\"精英8人組\"\\n', '\\n[BOX ] Clippers 114:99 Mavericks 數據\\n', '\\n[外絮] Butler說有些76人球員的工作態度跟他不合\\n', '\\n[BOX ] Wizards 104:117 Nuggets 數據\\n', '\\nRe: [花邊] 媒體賽前發現Derozan 將自己IG內容\\n', '\\n[情報] 團結就是力量 湖人眾球員紛紛稱讚Cousins\\n', '\\n[討論] 快艇是不是太強？\\n', '\\n[新聞] 聯盟訂定新準則 「工作量管理」視同輪休\\n', '\\nRe: [討論] 快艇是不是太強？\\n', '\\n[花邊] AI: 聯盟每個人防守都有問題 別針對甜瓜\\n', '\\n[公告] 板規v6.5\\n', '\\n[公告] 樂透取消及未來不再開啟樂透\\n', '\\n[公告] 版主上任相關事項 \\n', '\\n[情報] SEASON Schedule 賽程 November 19–20\\n', '\\n[公告] 修改板規3-3之第二階段投票開始囉\\n']\n"
          ],
          "name": "stdout"
        }
      ]
    },
    {
      "cell_type": "markdown",
      "metadata": {
        "id": "QAflsu9TP5ms",
        "colab_type": "text"
      },
      "source": [
        "## 作者"
      ]
    },
    {
      "cell_type": "code",
      "metadata": {
        "id": "rTeb12bAP9Eq",
        "colab_type": "code",
        "colab": {
          "base_uri": "https://localhost:8080/",
          "height": 34
        },
        "outputId": "8529922a-5ed5-4afd-a98c-3a4457b0ecee"
      },
      "source": [
        "def get_article_author():\n",
        "    author = []\n",
        "    get_author = get_pages()\n",
        "    for i in range(0,len(get_author)):\n",
        "        article_author = get_soup(get_author[i]).find_all('div', class_='author')\n",
        "        for it in article_author:\n",
        "            try:\n",
        "                author.append(it.text)\n",
        "            except :continue\n",
        "        \n",
        "    return author\n",
        "#print(len(get_article_author()))"
      ],
      "execution_count": 77,
      "outputs": [
        {
          "output_type": "stream",
          "text": [
            "28\n"
          ],
          "name": "stdout"
        }
      ]
    },
    {
      "cell_type": "code",
      "metadata": {
        "id": "Bq1FrWdhwqoZ",
        "colab_type": "code",
        "colab": {
          "base_uri": "https://localhost:8080/",
          "height": 34
        },
        "outputId": "3dfdb23f-b58f-42c1-c5ff-7aff190a8ba8"
      },
      "source": [
        "def get_article_day():\n",
        "    day = []\n",
        "    get_day = get_pages()\n",
        "    for i in range(0,len(get_day)):\n",
        "        article_day = get_soup(get_day[i]).find_all('div', class_='date')\n",
        "        for it in article_day:\n",
        "            try:\n",
        "                day.append(it.text)\n",
        "            except :continue\n",
        "        \n",
        "    return day\n",
        "#print(len(get_article_day()))"
      ],
      "execution_count": 78,
      "outputs": [
        {
          "output_type": "stream",
          "text": [
            "28\n"
          ],
          "name": "stdout"
        }
      ]
    },
    {
      "cell_type": "markdown",
      "metadata": {
        "id": "VQJY7xvwwmJ1",
        "colab_type": "text"
      },
      "source": [
        "## 文章"
      ]
    },
    {
      "cell_type": "code",
      "metadata": {
        "id": "WwGuoZOwVeI5",
        "colab_type": "code",
        "outputId": "3799fc9c-9925-4814-b0ad-1131c7a17466",
        "colab": {
          "base_uri": "https://localhost:8080/",
          "height": 54
        }
      },
      "source": [
        "\n",
        "def article():\n",
        "    data = []\n",
        "    article = {} \n",
        "    get_article = get_article_web()\n",
        "    get_push = get_article_push()\n",
        "    get_day = get_article_day()\n",
        "    get_author = get_article_author()\n",
        "    for j in range(0,len(get_article)):\n",
        "        key = ['日期','推文','網址','作者'] \n",
        "        values = [get_day[j], get_push[j],get_article[j],get_author[j]]  \n",
        "        article = dict(zip(key,values))\n",
        "        data.append(article)\n",
        "    return data\n",
        "\n",
        "print(data)"
      ],
      "execution_count": 118,
      "outputs": [
        {
          "output_type": "stream",
          "text": [
            "[{'日期': '11/26', '推文': '0', '網址': 'https://www.ptt.cc//bbs/NBA/M.1574780282.A.F74.html', '作者': 'ted3698'}, {'日期': '11/26', '推文': '49', '網址': 'https://www.ptt.cc//bbs/NBA/M.1574780884.A.BF2.html', '作者': 'JerroLi'}, {'日期': '11/26', '推文': '30', '網址': 'https://www.ptt.cc//bbs/NBA/M.1574781720.A.939.html', '作者': 's27052705'}, {'日期': '11/26', '推文': '37', '網址': 'https://www.ptt.cc//bbs/NBA/M.1574781795.A.406.html', '作者': 'LeBronJame23'}, {'日期': '11/27', '推文': '11', '網址': '本文已被刪除', '作者': '-'}, {'日期': '11/27', '推文': '1', '網址': '本文已被刪除', '作者': '-'}, {'日期': '11/27', '推文': '84', '網址': 'https://www.ptt.cc//bbs/NBA/M.1574810842.A.37D.html', '作者': 'melman87'}, {'日期': '11/27', '推文': '54', '網址': 'https://www.ptt.cc//bbs/NBA/M.1574812324.A.6D7.html', '作者': 'nocturne'}, {'日期': '11/27', '推文': '爆', '網址': 'https://www.ptt.cc//bbs/NBA/M.1574816404.A.0A6.html', '作者': 'Rambo'}, {'日期': '11/27', '推文': '99', '網址': 'https://www.ptt.cc//bbs/NBA/M.1574817539.A.986.html', '作者': 'Vedan'}, {'日期': '11/27', '推文': '15', '網址': 'https://www.ptt.cc//bbs/NBA/M.1574818203.A.EA0.html', '作者': 'Rambo'}, {'日期': '11/27', '推文': '88', '網址': 'https://www.ptt.cc//bbs/NBA/M.1574819192.A.B8B.html', '作者': 'jk182325'}, {'日期': '11/27', '推文': '28', '網址': 'https://www.ptt.cc//bbs/NBA/M.1574819229.A.E6D.html', '作者': 'azlbf'}, {'日期': '11/27', '推文': '爆', '網址': 'https://www.ptt.cc//bbs/NBA/M.1574820215.A.4EF.html', '作者': 'pneumo'}, {'日期': '11/27', '推文': '爆', '網址': 'https://www.ptt.cc//bbs/NBA/M.1574827148.A.F75.html', '作者': 'Rambo'}, {'日期': '11/27', '推文': '爆', '網址': 'https://www.ptt.cc//bbs/NBA/M.1574827218.A.45D.html', '作者': 'pneumo'}, {'日期': '11/27', '推文': '27', '網址': 'https://www.ptt.cc//bbs/NBA/M.1574828557.A.848.html', '作者': 'Rambo'}, {'日期': '11/27', '推文': '3', '網址': 'https://www.ptt.cc//bbs/NBA/M.1574829235.A.8DF.html', '作者': 'hosadavid'}, {'日期': '11/27', '推文': '76', '網址': 'https://www.ptt.cc//bbs/NBA/M.1574829966.A.DEB.html', '作者': 'VeryGoodBoy'}, {'日期': '11/27', '推文': '20', '網址': 'https://www.ptt.cc//bbs/NBA/M.1574831270.A.D90.html', '作者': 'seabox'}, {'日期': '11/27', '推文': '17', '網址': 'https://www.ptt.cc//bbs/NBA/M.1574831319.A.E74.html', '作者': 'Wall62'}, {'日期': '11/27', '推文': '27', '網址': 'https://www.ptt.cc//bbs/NBA/M.1574832149.A.EF5.html', '作者': 'humbler'}, {'日期': '11/27', '推文': '65', '網址': 'https://www.ptt.cc//bbs/NBA/M.1574832499.A.D75.html', '作者': 'manuginobii'}, {'日期': '11/27', '推文': '49', '網址': 'https://www.ptt.cc//bbs/NBA/M.1574835015.A.2EE.html', '作者': 'thnlkj0665'}, {'日期': '11/27', '推文': '56', '網址': 'https://www.ptt.cc//bbs/NBA/M.1574836056.A.5EB.html', '作者': 'whj0530'}, {'日期': '11/27', '推文': '28', '網址': 'https://www.ptt.cc//bbs/NBA/M.1574837568.A.5F4.html', '作者': 'pneumo'}, {'日期': '11/27', '推文': '0', '網址': '本文已被刪除', '作者': '-'}, {'日期': ' 5/24', '推文': '0', '網址': 'https://www.ptt.cc//bbs/NBA/M.1558698194.A.1DC.html', '作者': 'Vedan'}, {'日期': ' 6/24', '推文': '爆', '網址': 'https://www.ptt.cc//bbs/NBA/M.1561360084.A.52D.html', '作者': 'Vedan'}, {'日期': '10/25', '推文': '36', '網址': 'https://www.ptt.cc//bbs/NBA/M.1571971445.A.8A8.html', '作者': 'qazwsx879345'}, {'日期': '10/31', '推文': '39', '網址': 'https://www.ptt.cc//bbs/NBA/M.1572533076.A.E0A.html', '作者': 'JerroLi'}, {'日期': '11/15', '推文': '6', '網址': 'https://www.ptt.cc//bbs/NBA/M.1573748419.A.9F5.html', '作者': 'Vedan'}]\n"
          ],
          "name": "stdout"
        }
      ]
    },
    {
      "cell_type": "code",
      "metadata": {
        "id": "o4l2PBk41nb_",
        "colab_type": "code",
        "colab": {}
      },
      "source": [
        "\n",
        "def get_today_pages():#從前一日列表開始\n",
        "    today_pages = []\n",
        "    n = len(get_pages()) #測試用頁面\n",
        "    while True:\n",
        "        url = 'https://www.ptt.cc/bbs/NBA/index'+str(n)+'.html'\n",
        "        lessons = get_soup(url).select('a' )\n",
        "        if lessons == []:\n",
        "            break\n",
        "        else :\n",
        "            today_pages.append(url)\n",
        "            n += 1\n",
        "            #print(url)\n",
        "            #time.sleep(0.5)\n",
        "    return today_pages\n"
      ],
      "execution_count": 0,
      "outputs": []
    }
  ]
}