{
  "nbformat": 4,
  "nbformat_minor": 0,
  "metadata": {
    "colab": {
      "name": "PttCrawler.ipynb",
      "provenance": [],
      "include_colab_link": true
    },
    "kernelspec": {
      "name": "python3",
      "display_name": "Python 3"
    }
  },
  "cells": [
    {
      "cell_type": "markdown",
      "metadata": {
        "id": "view-in-github",
        "colab_type": "text"
      },
      "source": [
        "<a href=\"https://colab.research.google.com/github/fxxxtsao/Crawler/blob/master/PttCrawler.ipynb\" target=\"_parent\"><img src=\"https://colab.research.google.com/assets/colab-badge.svg\" alt=\"Open In Colab\"/></a>"
      ]
    },
    {
      "cell_type": "code",
      "metadata": {
        "id": "PmJ5odsYLWMS",
        "colab_type": "code",
        "colab": {}
      },
      "source": [
        "import requests\n",
        "from bs4 import BeautifulSoup as bs\n",
        "import json \n",
        "import re\n",
        "import time\n",
        "def get_soup(item):\n",
        "    res = requests.get(item, headers=headers, cookies={'over18': '1'}).text\n",
        "    soup = bs(res, 'lxml')\n",
        "    return soup\n",
        "\n",
        "def get_pages():\n",
        "    pages = []\n",
        "    n = 39200\n",
        "    while True:\n",
        "        url = 'https://www.ptt.cc/bbs/Gossiping/index'+str(n)+'.html'\n",
        "        lessons = get_soup(url).select('a' )\n",
        "        if lessons == []:\n",
        "            break\n",
        "        else :\n",
        "            pages.append(url)\n",
        "            n += 1\n",
        "            #print(url)\n",
        "            time.sleep(1)\n",
        "    return pages\n",
        "\n",
        "def get_article_web():\n",
        "    article_web = get_soup(pages[0]).find_all('div', class_='title')\n",
        "    web = []\n",
        "\n",
        "    for item in article_web:\n",
        "        try:\n",
        "            data.append('https://www.ptt.cc/'+item.find('a').get('href'))\n",
        "        except :continue\n",
        "        \n",
        "    return web\n",
        "\n",
        "\n",
        "    "
      ],
      "execution_count": 0,
      "outputs": []
    },
    {
      "cell_type": "markdown",
      "metadata": {
        "id": "wDARDGruQ7bn",
        "colab_type": "text"
      },
      "source": [
        "### 推文數　pages[0]"
      ]
    },
    {
      "cell_type": "code",
      "metadata": {
        "id": "qPNttNgm-l-z",
        "colab_type": "code",
        "colab": {}
      },
      "source": [
        "def get_article_push():\n",
        "    article_push = get_soup(pages[0]).find_all('div', class_='nrec')\n",
        "    push = []\n",
        "    #print(article)\n",
        "    for pu in article_push:\n",
        "        try:\n",
        "            push.append(pu.find('span').text)\n",
        "        except :continue\n",
        "    return push\n",
        "\n",
        "\n"
      ],
      "execution_count": 0,
      "outputs": []
    },
    {
      "cell_type": "markdown",
      "metadata": {
        "id": "E4NL4XseTaS1",
        "colab_type": "text"
      },
      "source": [
        "### 文章略標　pages[0] "
      ]
    },
    {
      "cell_type": "code",
      "metadata": {
        "id": "pwEXZZgjTZJG",
        "colab_type": "code",
        "colab": {
          "base_uri": "https://localhost:8080/",
          "height": 54
        },
        "outputId": "71130e09-1f04-4b87-86a6-7110d91483d4"
      },
      "source": [
        "def get_article_title():\n",
        "    article_title = get_soup(pages[0]).find_all('div', class_='title')\n",
        "    title = []\n",
        "    for it in article_title:\n",
        "        try:\n",
        "            title.append(it.find('a').text)\n",
        "        except :continue\n",
        "        \n",
        "    return title\n",
        "print(title)"
      ],
      "execution_count": 154,
      "outputs": [
        {
          "output_type": "stream",
          "text": [
            "['[新聞] 鐵門沒關…通緝犯扮外送員 溜出警局', 'Re: [新聞] 爵士樂巨擘Peter White親自操刀 星宇今', '[新聞] 香港理大廚師：煮飯就是抗爭 會守到最後', 'Re: [新聞] 柯文哲怒嗆范雲：被收買就被收買，囉哩叭', 'Re: [新聞] 幸安名廈神祕屋主身分是她\\u3000又跟李佳芬', 'Re: [問卦] 有沒有教主obov是甲的八卦', '[新聞] 人老屋老／去年全國空屋創高 逾91萬宅 增', '[問卦] 會在自助餐夾一整條魚嗎', 'Re: [爆卦] DPP廣告：給台灣一個說到做到的席次', 'Re: [新聞] 柯文哲稱台獨兒孫躲國外 蔡英文:列黑名單', 'Re: [新聞] 柯文哲稱台獨兒孫躲國外 蔡英文:列黑名單', '[問卦] 很愛嘴別人的 顏面神經失調痊癒後 會改嗎?', '[問卦] 為什麽有奶台沒有懶覺台？', '[問卦] 有沒有黑名單加不完的掛?', '[新聞] 智在家鄉孕人才 蔡明介：半導體需求有增', 'Re: [新聞] 柯稱搞台獨兒孫在國外 今改口稱「口水戰', 'Re: [問卦] 有沒有教主obov是甲的八卦', '[問卦] 被愛莉莎莎訪問的男星會有戀愛的感覺嗎？', '[新聞] 池松壯亮床戰蒼井優「沒想太多」 角色太']\n"
          ],
          "name": "stdout"
        }
      ]
    },
    {
      "cell_type": "code",
      "metadata": {
        "id": "WwGuoZOwVeI5",
        "colab_type": "code",
        "colab": {}
      },
      "source": [
        ""
      ],
      "execution_count": 0,
      "outputs": []
    }
  ]
}