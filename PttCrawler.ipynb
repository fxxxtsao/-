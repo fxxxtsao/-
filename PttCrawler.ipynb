{
  "nbformat": 4,
  "nbformat_minor": 0,
  "metadata": {
    "colab": {
      "name": "PttCrawler.ipynb",
      "provenance": [],
      "collapsed_sections": [],
      "include_colab_link": true
    },
    "kernelspec": {
      "name": "python3",
      "display_name": "Python 3"
    }
  },
  "cells": [
    {
      "cell_type": "markdown",
      "metadata": {
        "id": "view-in-github",
        "colab_type": "text"
      },
      "source": [
        "<a href=\"https://colab.research.google.com/github/fxxxtsao/Crawler/blob/master/PttCrawler.ipynb\" target=\"_parent\"><img src=\"https://colab.research.google.com/assets/colab-badge.svg\" alt=\"Open In Colab\"/></a>"
      ]
    },
    {
      "cell_type": "code",
      "metadata": {
        "id": "PmJ5odsYLWMS",
        "colab_type": "code",
        "outputId": "93bcb50c-b759-4555-f7cd-bc74d4ee741b",
        "colab": {
          "base_uri": "https://localhost:8080/",
          "height": 34
        }
      },
      "source": [
        "import requests\n",
        "from bs4 import BeautifulSoup as bs\n",
        "import json \n",
        "import re\n",
        "import time\n",
        "\n",
        "# 熱門看板列表: https://www.ptt.cc/bbs/hotboards.html\n",
        "def get_soup(item):\n",
        "    headers = {'user-agent': 'Mozilla/5.0 (Windows NT 6.1) AppleWebKit/537.36 (KHTML, like Gecko) Chrome/52.0.2743.116 Safari/537.36'}\n",
        "    res = requests.get(item, headers=headers, cookies={'over18': '1'}).text\n",
        "    soup = bs(res, 'lxml')\n",
        "    return soup\n",
        "\n",
        "def get_pages():\n",
        "    pages = []\n",
        "    n = 6500 #測試用頁面\n",
        "    while True:\n",
        "        url = 'https://www.ptt.cc/bbs/NBA/index'+str(n)+'.html'\n",
        "        lessons = get_soup(url).select('a' )\n",
        "        if lessons == []:\n",
        "            break\n",
        "        else :\n",
        "            pages.append(url)\n",
        "            n += 1\n",
        "            #print(url)\n",
        "            #time.sleep(0.5)\n",
        "    return pages\n",
        "\n",
        "def get_article_web():\n",
        "    article_web = get_soup(get_pages()[0]).find_all('div', class_='title')\n",
        "    web = []\n",
        "    for item in article_web:\n",
        "        try:\n",
        "            web.append('https://www.ptt.cc/'+item.find('a').get('href'))\n",
        "        except :continue\n",
        "        \n",
        "    return web\n",
        "print(get_article_web()[0])"
      ],
      "execution_count": 174,
      "outputs": [
        {
          "output_type": "stream",
          "text": [
            "https://www.ptt.cc//bbs/NBA/M.1574573669.A.72E.html\n"
          ],
          "name": "stdout"
        }
      ]
    },
    {
      "cell_type": "markdown",
      "metadata": {
        "id": "wDARDGruQ7bn",
        "colab_type": "text"
      },
      "source": [
        "### 推文數　pages[0]"
      ]
    },
    {
      "cell_type": "code",
      "metadata": {
        "id": "qPNttNgm-l-z",
        "colab_type": "code",
        "colab": {}
      },
      "source": [
        "def get_article_push():\n",
        "    article_push = get_soup(get_pages()[0]).find_all('div', class_='nrec')\n",
        "    push = []\n",
        "    #print(article)\n",
        "    for pu in article_push:\n",
        "        try:\n",
        "            push.append(pu.find('span').text)\n",
        "        except :continue\n",
        "    return push\n",
        "\n"
      ],
      "execution_count": 0,
      "outputs": []
    },
    {
      "cell_type": "markdown",
      "metadata": {
        "id": "E4NL4XseTaS1",
        "colab_type": "text"
      },
      "source": [
        "### 文章略標　pages[0] "
      ]
    },
    {
      "cell_type": "code",
      "metadata": {
        "id": "pwEXZZgjTZJG",
        "colab_type": "code",
        "colab": {}
      },
      "source": [
        "def get_article_title():\n",
        "    article_title = get_soup(pages[0]).find_all('div', class_='title')\n",
        "    title = []\n",
        "    for it in article_title:\n",
        "        try:\n",
        "            title.append(it.find('a').text)\n",
        "        except :continue\n",
        "        \n",
        "    return title\n"
      ],
      "execution_count": 0,
      "outputs": []
    },
    {
      "cell_type": "code",
      "metadata": {
        "id": "WwGuoZOwVeI5",
        "colab_type": "code",
        "outputId": "d6535919-2e39-4e24-8000-209ed5f84e0d",
        "colab": {
          "base_uri": "https://localhost:8080/",
          "height": 54
        }
      },
      "source": [
        "\n",
        "\n",
        "def article():\n",
        "    data = []\n",
        "    article = {}\n",
        "    article['分頁'] = get_pages()[0]\n",
        "    article['日期'] = get_soup(get_pages()[0]).find('div', class_='date').text\n",
        "    article['網址'] = get_article_web()[0]\n",
        "    article['推文'] = get_article_push()[0] # 從分頁get_pages()找\n",
        "    article['作者'] = get_soup(get_article_web()[0]).find_all('span', class_='article-meta-value')[0].text\n",
        "    article['標題'] = get_soup(get_article_web()[0]).find_all('span', class_='article-meta-value')[2].text\n",
        "    article['時間'] = get_soup(get_article_web()[0]).find_all('span', class_='article-meta-value')[3].text\n",
        "    article['內文'] = get_soup(get_article_web()[0]).find_all('div', class_='bbs-screen bbs-content')[0].text\n",
        "    data.append(article)\n",
        "    return data\n",
        "    \n",
        "#article= get_soup(get_article_web(1)[1]).find_all('span', class_='article-meta-value')[3].text\n",
        "#print(article())\n",
        "print(article())"
      ],
      "execution_count": 175,
      "outputs": [
        {
          "output_type": "stream",
          "text": [
            "[{'分頁': 'https://www.ptt.cc/bbs/NBA/index6500.html', '日期': '11/24', '網址': 'https://www.ptt.cc//bbs/NBA/M.1574573669.A.72E.html', '推文': '21', '作者': 'teramars (tomorrow never knows)', '標題': '[新聞] 拉文49分13顆外線創公牛隊史新高\\u30000.8秒', '時間': 'Sun Nov 24 13:34:26 2019', '內文': '作者teramars (tomorrow never knows)看板NBA標題[新聞] 拉文49分13顆外線創公牛隊史新高\\u30000.8秒時間Sun Nov 24 13:34:26 2019\\n  拉文49分13顆外線創公牛隊史新高\\u30000.8秒絕殺黃蜂\\n\\n\\n前一戰被冰在板凳的拉文（Zach LaVine）對上黃蜂大爆發，不僅狂轟13顆外線寫下公牛\\n\\n隊史紀錄，49分也打破個人生涯最高，比賽結束前0.8秒更投進超前的三分球，幫助公牛\\n\\n116比115險勝黃蜂。\\n\\n\\n拉文在前一戰對熱火的比賽中，一度被教練柏伊蘭（Jim Boylen）冰在板凳，拉文也公開\\n\\n表示感覺到教練對他的不信任。不過本戰大復活的他外線17投13中，追平柯瑞(Stephen\\n\\nCurry)的單場第2多三分球紀錄，而且其中7顆在第4節投進，也平了隊史單節紀錄。\\n\\n\\n儘管如此，公牛在最後1分鐘落後達8分。而在過去20個球季，在如此狀況下的15,266場比\\n\\n賽，只有9次成功逆轉，勝率只有0.059%。不過薩托蘭斯基(Tomas Satoransky)先在終場8\\n\\n秒投進外線，懷特(Coby White)成功抄到底線發球，再給到拉文投進準絕殺外線，116比\\n\\n115逆轉；在比賽最後1分鐘，拉文一個人就投進3顆三分球。\\n\\n\\n拉文成為2015年的「飆風玫瑰」羅斯(Derrick Rose)在2015年季後賽對騎士以來，第1位\\n\\n在終場前1秒之內，投進追平三分球的球員。而公牛上一次在例行賽，出現這種緊要關頭\\n\\n的絕殺，已是喬丹(Michael Jordan)在1997年絕殺黃蜂。\\n\\n\\n\\n記者林育正／綜合報導\\n\\nhttps://sports.ettoday.net/news/1586985?redirect=1\\n\\n--\\n※ 發信站: 批踢踢實業坊(ptt.cc), 來自: 182.234.74.135 (臺灣)\\n※ 文章網址: https://www.ptt.cc/bbs/NBA/M.1574573669.A.72E.html\\n推 SwissMiniGun: 又是黃蜂 真有緣 11/24 13:36\\n→ Pixis       : 又是黃蜂笑死 11/24 13:38\\n推 mercuries2  : 落後8分還贏的那九場，應該有一場是tmac35秒13分吧 11/24 13:40\\n→ mercuries2  : ，不是很清楚那場比賽最後一分鐘時火箭落後幾分 11/24 13:40\\n推 rojjujj     : 這真的精典 11/24 13:43\\n推 peanut910013: 記得最後是一波15：4 影片從姚明灌籃開始 應該追了1 11/24 13:49\\n→ peanut910013: 0分 11/24 13:49\\n推 t79102xw    : 最後ㄧ球連空氣都凝結了 LaVine那姿勢美如畫 11/24 13:57\\n推 DwyaneWade  : lavine真他媽暴幹帥 11/24 14:06\\n推 iamaq18c    : 帥死我了！ 11/24 14:08\\n推 peacedove   : tmac那場沒記錯也是八分 11/24 14:19\\n推 taihsin     : 猛 11/24 14:21\\n推 simon89889  : 感覺出手空間比t-mac大一些 不知道是他跳得高 11/24 14:39\\n推 simon89889  : 還是防守沒針對 t-mac持球時都是兩個人貼上去 11/24 14:41\\n→ simon89889  : 不過前兩確實誇張到 11/24 14:42\\n→ jerrychlin  : 今天老喬有在現場嗎？ 11/24 14:47\\n推 SwissMiniGun: 話說LaVine也才2000萬 黃蜂如果簽到他該多爽 11/24 14:48\\n噓 signm       : 公牛不會讓出來吧，冰各毛 11/24 15:02\\n→ SwissMiniGun: 肯定不會啊XD 11/24 15:05\\n→ appole      : 各種空檔 11/24 15:16\\n→ youa        : 喬丹絕殺的是另一隊黃蜂吧？ 11/24 15:33\\n推 sonas20     : 同一隻黃蜂吧，有繼承歷史不是嗎 11/24 15:44\\n噓 ACEFUCK     : 這球沒進保證一堆鍵盤教練出來噴出手選擇 11/24 15:57\\n推 SwissMiniGun: 同一隻 夏洛特黃蜂有繼承1988-2002黃蜂 11/24 16:12\\n→ SwissMiniGun: CP3則是紐奧良黃蜂=現在的水鳥 11/24 16:13\\n推 s87995109   : 沒進一定一堆說怎不拿兩分 11/24 16:22\\n→ s87995109   : 這隻是公年重建基石怎可能讓 11/24 16:23\\n推 KobeNi      : 有一球是不小心踩到線的long two，沒踩就更史上留名 11/24 16:29\\n→ KobeNi      : 了 11/24 16:29\\n推 csyhri      : 狂 11/24 17:19\\n推 likewen11033: 上次絕殺黃蜂的老喬現在在黃蜂當老闆看黃蜂被老東家 11/24 18:16\\n→ likewen11033: 的人絕殺，蠻五味雜陳的吧 11/24 18:16\\n噓 king04569   : 第三節不知道再冰三小 白癡教練 11/24 18:33\\n推 km10635237  : 帥渣了 11/24 18:35\\n推 iovebaby520 : 如果最後沒進應該變戰犯？ 11/24 19:54\\n推 ckshchen    : 戰犯什麼?本來輸那麼多，他追近的 11/24 20:01\\n推 Loire       : 最後一球 跟 miller  time 超像的 11/24 20:10\\n推 bye2007     : 這球真的太屌 11/24 20:50\\n→ bye2007     : 公牛上一次絕殺 已經是1997年啦.... 11/24 20:51\\n推 Scubadive   : 今天跟神一樣... 11/25 00:13\\n'}]\n"
          ],
          "name": "stdout"
        }
      ]
    }
  ]
}