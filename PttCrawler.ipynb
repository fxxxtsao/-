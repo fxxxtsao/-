{
  "nbformat": 4,
  "nbformat_minor": 0,
  "metadata": {
    "colab": {
      "name": "PttCrawler.ipynb",
      "provenance": [],
      "include_colab_link": true
    },
    "kernelspec": {
      "name": "python3",
      "display_name": "Python 3"
    }
  },
  "cells": [
    {
      "cell_type": "markdown",
      "metadata": {
        "id": "view-in-github",
        "colab_type": "text"
      },
      "source": [
        "<a href=\"https://colab.research.google.com/github/fxxxtsao/Crawler/blob/master/PttCrawler.ipynb\" target=\"_parent\"><img src=\"https://colab.research.google.com/assets/colab-badge.svg\" alt=\"Open In Colab\"/></a>"
      ]
    },
    {
      "cell_type": "code",
      "metadata": {
        "id": "PmJ5odsYLWMS",
        "colab_type": "code",
        "colab": {
          "base_uri": "https://localhost:8080/",
          "height": 34
        },
        "outputId": "dd25369b-eb97-4225-dab2-04de97a55da7"
      },
      "source": [
        "import requests\n",
        "from bs4 import BeautifulSoup as bs\n",
        "import json \n",
        "import re\n",
        "import time\n",
        "def get_soup(item):\n",
        "    res = requests.get(item, headers=headers, cookies={'over18': '1'}).text\n",
        "    soup = bs(res, 'lxml')\n",
        "    return soup\n",
        "\n",
        "def get_pages():\n",
        "    pages = []\n",
        "    n = 39200\n",
        "    while True:\n",
        "        url = 'https://www.ptt.cc/bbs/Gossiping/index'+str(n)+'.html'\n",
        "        lessons = get_soup(url).select('a' )\n",
        "        if lessons == []:\n",
        "            break\n",
        "        else :\n",
        "            pages.append(url)\n",
        "            n += 1\n",
        "            #print(url)\n",
        "            time.sleep(1)\n",
        "    return pages\n",
        "\n",
        "def get_article_web(web):\n",
        "    article_web = get_soup(pages[0]).find_all('div', class_='title')\n",
        "    web = []\n",
        "    for item in article_web:\n",
        "        try:\n",
        "            web.append('https://www.ptt.cc/'+item.find('a').get('href'))\n",
        "        except :continue\n",
        "        \n",
        "    return web\n",
        "print(get_article_web(1)[1])"
      ],
      "execution_count": 197,
      "outputs": [
        {
          "output_type": "stream",
          "text": [
            "https://www.ptt.cc//bbs/Gossiping/M.1574306113.A.56C.html\n"
          ],
          "name": "stdout"
        }
      ]
    },
    {
      "cell_type": "markdown",
      "metadata": {
        "id": "wDARDGruQ7bn",
        "colab_type": "text"
      },
      "source": [
        "### 推文數　pages[0]"
      ]
    },
    {
      "cell_type": "code",
      "metadata": {
        "id": "qPNttNgm-l-z",
        "colab_type": "code",
        "colab": {
          "base_uri": "https://localhost:8080/",
          "height": 34
        },
        "outputId": "4acbb58d-3b07-4597-c1d0-690c7e034cd6"
      },
      "source": [
        "def get_article_push():\n",
        "    article_push = get_soup(pages[0]).find_all('div', class_='nrec')\n",
        "    push = []\n",
        "    #print(article)\n",
        "    for pu in article_push:\n",
        "        try:\n",
        "            push.append(pu.find('span').text)\n",
        "        except :continue\n",
        "    return push\n",
        "\n"
      ],
      "execution_count": 163,
      "outputs": [
        {
          "output_type": "stream",
          "text": [
            "['37', '2', '爆', '9', '7', '1', '14', '14', '18', '9', '7', '4', '7', '爆', '1', '8']\n"
          ],
          "name": "stdout"
        }
      ]
    },
    {
      "cell_type": "markdown",
      "metadata": {
        "id": "E4NL4XseTaS1",
        "colab_type": "text"
      },
      "source": [
        "### 文章略標　pages[0] "
      ]
    },
    {
      "cell_type": "code",
      "metadata": {
        "id": "pwEXZZgjTZJG",
        "colab_type": "code",
        "colab": {
          "base_uri": "https://localhost:8080/",
          "height": 54
        },
        "outputId": "71130e09-1f04-4b87-86a6-7110d91483d4"
      },
      "source": [
        "def get_article_title():\n",
        "    article_title = get_soup(pages[0]).find_all('div', class_='title')\n",
        "    title = []\n",
        "    for it in article_title:\n",
        "        try:\n",
        "            title.append(it.find('a').text)\n",
        "        except :continue\n",
        "        \n",
        "    return title\n",
        "print(title)"
      ],
      "execution_count": 154,
      "outputs": [
        {
          "output_type": "stream",
          "text": [
            "['[新聞] 鐵門沒關…通緝犯扮外送員 溜出警局', 'Re: [新聞] 爵士樂巨擘Peter White親自操刀 星宇今', '[新聞] 香港理大廚師：煮飯就是抗爭 會守到最後', 'Re: [新聞] 柯文哲怒嗆范雲：被收買就被收買，囉哩叭', 'Re: [新聞] 幸安名廈神祕屋主身分是她\\u3000又跟李佳芬', 'Re: [問卦] 有沒有教主obov是甲的八卦', '[新聞] 人老屋老／去年全國空屋創高 逾91萬宅 增', '[問卦] 會在自助餐夾一整條魚嗎', 'Re: [爆卦] DPP廣告：給台灣一個說到做到的席次', 'Re: [新聞] 柯文哲稱台獨兒孫躲國外 蔡英文:列黑名單', 'Re: [新聞] 柯文哲稱台獨兒孫躲國外 蔡英文:列黑名單', '[問卦] 很愛嘴別人的 顏面神經失調痊癒後 會改嗎?', '[問卦] 為什麽有奶台沒有懶覺台？', '[問卦] 有沒有黑名單加不完的掛?', '[新聞] 智在家鄉孕人才 蔡明介：半導體需求有增', 'Re: [新聞] 柯稱搞台獨兒孫在國外 今改口稱「口水戰', 'Re: [問卦] 有沒有教主obov是甲的八卦', '[問卦] 被愛莉莎莎訪問的男星會有戀愛的感覺嗎？', '[新聞] 池松壯亮床戰蒼井優「沒想太多」 角色太']\n"
          ],
          "name": "stdout"
        }
      ]
    },
    {
      "cell_type": "code",
      "metadata": {
        "id": "WwGuoZOwVeI5",
        "colab_type": "code",
        "colab": {
          "base_uri": "https://localhost:8080/",
          "height": 54
        },
        "outputId": "d057de67-21ba-4914-e563-c8a2e39fa8a4"
      },
      "source": [
        "def article():\n",
        "    article = {}\n",
        "    article['作者'] = get_soup(get_article_web(1)[1]).find_all('span', class_='article-meta-value')[0].text\n",
        "    article['標題'] = get_soup(get_article_web(1)[1]).find_all('span', class_='article-meta-value')[2].text\n",
        "    article['時間'] = get_soup(get_article_web(1)[1]).find_all('span', class_='article-meta-value')[3].text\n",
        "    article['內文'] = get_soup(get_article_web(1)[1]).find_all('div', class_='bbs-screen bbs-content')[0].text\n",
        "    return article\n",
        "    \n",
        "#article= get_soup(get_article_web(1)[1]).find_all('span', class_='article-meta-value')[3].text\n",
        "print(article())"
      ],
      "execution_count": 239,
      "outputs": [
        {
          "output_type": "stream",
          "text": [
            "{'內文': '作者martinmask (Michael)看板Gossiping標題Re: [新聞] 爵士樂巨擘Peter White親自操刀 星宇今時間Thu Nov 21 11:15:10 2019\\n※ 引述《yahe0526 (有一種預感 發廢文好難)》之銘言：\\n: ※發文無1~6小標格式或未依順序任意刪除者會被刪文\\n: 1.媒體來源:\\n: ※ 例如蘋果日報、自由時報（請參考版規下方的核准媒體名單）\\n: 自由時報\\n: 2.記者署名\\n: ※ 沒有在這打上記者署名的新聞會被水桶14天 編輯非記者\\n: ※ 外電至少要有來源或編輯 如:法新社\\n: 蕭玗欣\\n: 3.完整新聞標題:\\n: ※ 標題沒有完整寫出來 ---> 依照板規刪除文章\\n: 爵士樂巨擘Peter White親自操刀 星宇今公布6首機上音樂\\n: 4.完整新聞內文:\\n: ※ 社論特稿都不能貼！違者刪除（政治類水桶3個月)，貼廣告也會被刪除喔！可詳看版規\\n: 〔記者蕭玗欣／台北報導〕繼上週公開機上安全影片，引發網友一片好評，星宇航空今再\\n: 度對外公布由爵士樂巨擘Peter White打造的機上音樂，包含登機及降落音樂共6首歌曲，\\n: 盼透過優雅輕快的音符，讓旅客在旅程的開始與結束，都能有最放鬆自在的心情。\\n: 星宇航空公布首航日期後，近日持續公開機上亮點，包含新制服、專屬香氛及機上影片都\\n: 陸續亮相，今再公開機上音樂。\\n: 星宇航空表示，星宇在每個服務環節皆希望能帶給旅客嶄新的感受，機上音樂風格更是跳\\n: 脫傳統航空公司的機上音樂曲風，董事長張國煒指定採用Smooth Jazz，他在美國留學時，\\n: 就時常邊開車邊收聽爵士樂。\\n: 張國煒董事長表示，星宇航空編製Smooth Jazz機上音樂的初衷，是希望旅客一上機就能沈\\n: 浸在輕鬆愉悅的氣氛中，機上音樂除了好聽還要耐聽，讓人在密閉的機艙環境中感到全然\\n: 的放鬆，提升飛行的舒適感受。\\n: 星宇航空邀請Smooth Jazz界的大師級人物Peter White，量身打造專屬的機上音樂，為使\\n: 樂曲能在機艙噪音及封閉環境下依舊突出，Peter White特別選用音色較飽滿的樂器如吉他\\n: 、手風琴及馬林巴琴。三首登機音樂：Flying High、Fun in the Sun、Island Getaway營\\n: 造充滿放鬆及期待的海島度假感；三首Landing music：Peaceful、Adventure、Homeward\\n: Bound則以輕快的節奏預告美好旅程，同時也為返家或抵達目的地的旅客營造歡樂的氛圍。\\n: 6首歌曲各自述說不同的故事，卻也巧妙的呈現起承轉合，共同譜出完美的聽覺之旅。\\n: Peter White表示，這是我首次為航空公司譜寫歌曲，我試著在音樂中傳遞旅行和冒險的感\\n: 受，非常感謝能有這次的創作機會。Peter White也為此發行數位專輯Ｍusic for STARLUX\\n:  Airlines，已正式上架在iTunes/Apple Music/Spotify/ Youtube Music/ KKBOX。\\n: 5.完整新聞連結 (或短網址):\\n: ※ 當新聞連結過長時，需提供短網址方便網友點擊\\n: https://news.ltn.com.tw/news/life/breakingnews/2981435\\n: 6.備註:\\n: ※ 一個人一天只能張貼一則新聞，被刪或自刪也算額度內，超貼者水桶，請注意\\n: 先是拍了安全影片的動畫\\n: 然後又找大師做機上音樂\\n: https://www.youtube.com/watch?v=yHuyjGZdC6c\\n: 星宇完全把其他兩家摁在地上打....\\n\\n配樂放鬆心情是很不錯\\n\\n我前鎮子剛搭了大韓航空\\n\\n也是有放很舒服的古典樂\\n\\n就是電影很多是韓語字幕沒辦法\\n\\n因為我是飛美國 不想吃什麼西餐牛排當作飛機餐\\n\\n餐食很適合亞洲人吃我覺得這點很不錯\\n\\n早上也有粥 拌飯也很好吃 海帶湯雖然是速溶的可是我喝了3碗\\n\\n然後說真的因為服務很好我還蠻開心的\\n\\n因為有點冷有點時差的關係有點發抖\\n\\n然後空姐的粉綠色制服很好看 還有象牙白裙子很貼肉\\n\\n就可以看到內褲的線條耶\\n\\n我好色\\n\\n服務又好 感覺想去韓國來一趟空姐大保健之旅\\n\\nemd\\n\\n--\\n宅化四徵兆\\n推宅:XDDDD~ 您的包裹    喂~學妹電腦壞了   原來我沒朋友...\\n□   ○  ○   ○ 你去修一下  <○>\\n  ┴└□    □=□郵 ○> □\\n￣￣√╦  ∥   |\\\\ ︽□ ∥\\n醒來就開機        網購真便利       不會想出去       交際等於零ψQSWEET\\n\\n--\\n※ 發信站: 批踢踢實業坊(ptt.cc), 來自: 220.143.0.184 (臺灣)\\n※ 文章網址: https://www.ptt.cc/bbs/Gossiping/M.1574306113.A.56C.html\\n推 kavengany: 看到線條就興奮 你是不是魔法師223.139.244.118 11/21 11:16\\n推 ghostl40809: 空姐圖沒有講那麼多? 122.116.95.250 11/21 11:16\\n→ ilikepili: 伊健出征預備中  61.220.222.10 11/21 11:35\\n'}\n"
          ],
          "name": "stdout"
        }
      ]
    }
  ]
}